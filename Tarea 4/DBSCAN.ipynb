{
  "cells": [
    {
      "cell_type": "markdown",
      "metadata": {},
      "source": [
        "# Ejemplos DBSCAN"
      ]
    },
    {
      "cell_type": "code",
      "execution_count": null,
      "metadata": {
        "colab": {
          "base_uri": "https://localhost:8080/"
        },
        "id": "vMqYTJe9Yu7G",
        "outputId": "dd024b08-251f-48a6-dc01-cd8b9f3f051e"
      },
      "outputs": [],
      "source": [
        "import numpy as np\n",
        "\n",
        "def euclidean_distance(x1, x2):\n",
        "    return np.sqrt(np.sum((x1 - x2) ** 2))\n",
        "\n",
        "def find_neighbors(X, point_index, eps):\n",
        "    neighbors = []\n",
        "    for i, point in enumerate(X):\n",
        "        if euclidean_distance(X[point_index], point) <= eps:\n",
        "            neighbors.append(i)\n",
        "    return neighbors\n",
        "\n",
        "def dbscan(X, eps, min_samples):\n",
        "    labels = np.full(X.shape[0], -1)  # Inicializar todas las instancias como ruido (-1)\n",
        "    cluster_label = 0\n",
        "\n",
        "    for i, point in enumerate(X):\n",
        "        if labels[i] != -1:  # Si ya está asignado a un cluster, continuar\n",
        "            continue\n",
        "\n",
        "        neighbors = find_neighbors(X, i, eps)\n",
        "        if len(neighbors) < min_samples:  # Si no hay suficientes vecinos, marcar como ruido (-1)\n",
        "            labels[i] = -1\n",
        "        else:\n",
        "            cluster_label += 1\n",
        "            labels[i] = cluster_label\n",
        "            expand_cluster(X, labels, i, neighbors, cluster_label, eps, min_samples)\n",
        "\n",
        "    return labels\n",
        "\n",
        "def expand_cluster(X, labels, point_index, neighbors, cluster_label, eps, min_samples):\n",
        "    queue = neighbors.copy()\n",
        "    i = 0\n",
        "    while i < len(queue):\n",
        "        neighbor_index = queue[i]\n",
        "        if labels[neighbor_index] == -1:  # Si el vecino es ruido, cambiar la etiqueta al cluster actual\n",
        "            labels[neighbor_index] = cluster_label\n",
        "        elif labels[neighbor_index] == 0:  # Si el vecino no está asignado a ningún cluster\n",
        "            labels[neighbor_index] = cluster_label\n",
        "            neighbor_neighbors = find_neighbors(X, neighbor_index, eps)\n",
        "            if len(neighbor_neighbors) >= min_samples:\n",
        "                queue.extend(neighbor_neighbors)\n",
        "        i += 1\n",
        "\n",
        "# Datos de ejemplo\n",
        "X = np.array([[1, 2], [1.5, 1.8], [5, 8], [8, 8], [1, 0.6],\n",
        "              [9, 11], [8, 2], [10, 2], [9, 3]])\n",
        "\n",
        "# Parámetros de DBSCAN\n",
        "eps = 2\n",
        "min_samples = 2\n",
        "\n",
        "# Ejecutar DBSCAN\n",
        "labels = dbscan(X, eps, min_samples)\n",
        "print(\"Etiquetas finales de los puntos:\", labels)\n"
      ]
    },
    {
      "cell_type": "code",
      "execution_count": null,
      "metadata": {
        "colab": {
          "base_uri": "https://localhost:8080/",
          "height": 472
        },
        "id": "c4VLgUDNX5Fy",
        "outputId": "657cf113-5e97-49a6-80c6-ead53176489f"
      },
      "outputs": [],
      "source": [
        "import numpy as np\n",
        "import matplotlib.pyplot as plt\n",
        "from sklearn.datasets import make_moons\n",
        "\n",
        "# Generar datos sintéticos con dos lunas\n",
        "X, _ = make_moons(n_samples=500, noise=0.1, random_state=42)\n",
        "\n",
        "# Mostrar los primeros puntos de los datos\n",
        "plt.scatter(X[:, 0], X[:, 1], s=10)\n",
        "plt.title('Primeros puntos de los datos')\n",
        "plt.xlabel('Feature 1')\n",
        "plt.ylabel('Feature 2')\n",
        "plt.show()\n"
      ]
    },
    {
      "cell_type": "code",
      "execution_count": null,
      "metadata": {
        "colab": {
          "base_uri": "https://localhost:8080/",
          "height": 543
        },
        "id": "4O5osnToYHMj",
        "outputId": "e8301016-dc82-4673-8e36-13127c4c68a8"
      },
      "outputs": [],
      "source": [
        "from sklearn.cluster import DBSCAN\n",
        "\n",
        "# Crear el modelo DBSCAN\n",
        "dbscan = DBSCAN(eps=0.2, min_samples=5)\n",
        "\n",
        "# Ajustar el modelo a los primeros puntos de los datos\n",
        "dbscan.fit(X[:50])\n",
        "\n",
        "# Mostrar cómo van cambiando las etiquetas de los clusters\n",
        "print(\"Labels después de ajustar los primeros 50 puntos:\")\n",
        "print(dbscan.labels_)\n",
        "\n",
        "# Mostrar los puntos clasificados hasta ahora\n",
        "plt.scatter(X[:50, 0], X[:50, 1], c=dbscan.labels_[:50], s=10)\n",
        "plt.title('Puntos clasificados por DBSCAN')\n",
        "plt.xlabel('Feature 1')\n",
        "plt.ylabel('Feature 2')\n",
        "plt.show()\n"
      ]
    },
    {
      "cell_type": "code",
      "execution_count": null,
      "metadata": {
        "colab": {
          "base_uri": "https://localhost:8080/",
          "height": 472
        },
        "id": "OsUSfAjHYMu7",
        "outputId": "000c16d6-e072-40c7-ca04-bbbb9c55c2b4"
      },
      "outputs": [],
      "source": [
        "# Ajustar el modelo a todos los datos\n",
        "dbscan.fit(X)\n",
        "\n",
        "# Obtener las etiquetas de los clusters y los puntos ruidosos\n",
        "labels = dbscan.labels_\n",
        "\n",
        "# Plot de los resultados finales\n",
        "plt.scatter(X[:, 0], X[:, 1], c=labels, s=10)\n",
        "plt.title('Resultado final de DBSCAN')\n",
        "plt.xlabel('Feature 1')\n",
        "plt.ylabel('Feature 2')\n",
        "plt.show()\n"
      ]
    },
    {
      "cell_type": "code",
      "execution_count": null,
      "metadata": {
        "colab": {
          "base_uri": "https://localhost:8080/",
          "height": 452
        },
        "id": "eZi1b0cIYSve",
        "outputId": "eb8f4919-09b0-49e4-8c48-188ca9e37f32"
      },
      "outputs": [],
      "source": [
        "import numpy as np\n",
        "import matplotlib.pyplot as plt\n",
        "from sklearn.datasets import make_moons\n",
        "from sklearn.cluster import DBSCAN\n",
        "\n",
        "# Generar datos sintéticos con dos lunas\n",
        "X, _ = make_moons(n_samples=500, noise=0.1, random_state=42)\n",
        "\n",
        "# Crear el modelo DBSCAN\n",
        "dbscan_scikit = DBSCAN(eps=0.2, min_samples=5)\n",
        "\n",
        "# Ajustar el modelo a los datos\n",
        "dbscan_scikit.fit(X)\n",
        "\n",
        "# Obtener las etiquetas de los clusters y los puntos ruidosos\n",
        "labels = dbscan_scikit.labels_\n",
        "core_samples_mask = np.zeros_like(labels, dtype=bool)\n",
        "core_samples_mask[dbscan_scikit.core_sample_indices_] = True\n",
        "\n",
        "# Número total de clusters en las etiquetas, ignorando el ruido si está presente.\n",
        "n_clusters_ = len(set(labels)) - (1 if -1 in labels else 0)\n",
        "n_noise_ = list(labels).count(-1)\n",
        "\n",
        "# Plot de los resultados\n",
        "unique_labels = set(labels)\n",
        "colors = [plt.cm.Spectral(each)\n",
        "          for each in np.linspace(0, 1, len(unique_labels))]\n",
        "\n",
        "for k, col in zip(unique_labels, colors):\n",
        "    if k == -1:\n",
        "        # Puntos ruidosos en negro\n",
        "        col = [0, 0, 0, 1]\n",
        "\n",
        "    class_member_mask = (labels == k)\n",
        "\n",
        "    xy = X[class_member_mask & core_samples_mask]\n",
        "    plt.plot(xy[:, 0], xy[:, 1], 'o', markerfacecolor=tuple(col),\n",
        "             markeredgecolor='k', markersize=14)\n",
        "\n",
        "    xy = X[class_member_mask & ~core_samples_mask]\n",
        "    plt.plot(xy[:, 0], xy[:, 1], 'o', markerfacecolor=tuple(col),\n",
        "             markeredgecolor='k', markersize=6)\n",
        "\n",
        "plt.title('Número estimado de clusters: %d' % n_clusters_)\n",
        "plt.show()\n"
      ]
    },
    {
      "cell_type": "code",
      "execution_count": null,
      "metadata": {
        "colab": {
          "base_uri": "https://localhost:8080/",
          "height": 504
        },
        "id": "o0XqQ3MgZiSN",
        "outputId": "a631e647-0ef8-4a05-8125-ee6f323c6d70"
      },
      "outputs": [],
      "source": [
        "import numpy as np\n",
        "import matplotlib.pyplot as plt\n",
        "from sklearn.datasets import make_moons\n",
        "from sklearn.cluster import KMeans\n",
        "from sklearn.neighbors import NearestNeighbors\n",
        "from sklearn.cluster import DBSCAN\n",
        "\n",
        "# Generar datos sintéticos con dos lunas\n",
        "X, _ = make_moons(n_samples=500, noise=0.1, random_state=42)\n",
        "\n",
        "# KMeans\n",
        "kmeans = KMeans(n_clusters=2, n_init=\"auto\")\n",
        "kmeans_labels = kmeans.fit_predict(X)\n",
        "\n",
        "# kNN\n",
        "knn = NearestNeighbors(n_neighbors=5)\n",
        "knn.fit(X)\n",
        "knn_distances, _ = knn.kneighbors(X, return_distance=True)\n",
        "knn_distances = np.mean(knn_distances, axis=1)\n",
        "\n",
        "# DBSCAN\n",
        "dbscan = DBSCAN(eps=0.2, min_samples=5)\n",
        "dbscan_labels = dbscan.fit_predict(X)\n",
        "\n",
        "# Plot\n",
        "plt.figure(figsize=(15, 5))\n",
        "\n",
        "plt.subplot(1, 3, 1)\n",
        "plt.scatter(X[:, 0], X[:, 1], c=kmeans_labels, cmap='viridis', s=10)\n",
        "plt.title('KMeans')\n",
        "\n",
        "plt.subplot(1, 3, 2)\n",
        "plt.scatter(X[:, 0], X[:, 1], c=knn_distances, cmap='viridis', s=10)\n",
        "plt.title('kNN')\n",
        "\n",
        "plt.subplot(1, 3, 3)\n",
        "plt.scatter(X[:, 0], X[:, 1], c=dbscan_labels, cmap='viridis', s=10)\n",
        "plt.title('DBSCAN')\n",
        "\n",
        "plt.show()\n",
        "\n",
        "from sklearn.metrics import silhouette_score\n",
        "\n",
        "# Calcular coeficiente de silueta para KMeans\n",
        "silhouette_kmeans = silhouette_score(X, kmeans_labels)\n",
        "\n",
        "# Calcular coeficiente de silueta para kNN\n",
        "#silhouette_knn = silhouette_score(X, knn_distances)\n",
        "\n",
        "# Calcular coeficiente de silueta para DBSCAN\n",
        "silhouette_dbscan = silhouette_score(X, dbscan_labels)\n",
        "\n",
        "print(\"Coeficiente de silueta para KMeans:\", silhouette_kmeans)\n",
        "#print(\"Coeficiente de silueta para kNN:\", silhouette_knn)\n",
        "print(\"Coeficiente de silueta para DBSCAN:\", silhouette_dbscan)\n"
      ]
    },
    {
      "cell_type": "code",
      "execution_count": null,
      "metadata": {
        "colab": {
          "base_uri": "https://localhost:8080/",
          "height": 504
        },
        "id": "544sdFkuZ5gb",
        "outputId": "0659aa37-a54f-4f4c-faed-50c04581e96a"
      },
      "outputs": [],
      "source": [
        "import numpy as np\n",
        "import matplotlib.pyplot as plt\n",
        "from sklearn.datasets import make_circles, make_moons, make_blobs\n",
        "from sklearn.cluster import KMeans\n",
        "from sklearn.neighbors import NearestNeighbors\n",
        "from sklearn.cluster import DBSCAN\n",
        "\n",
        "# Generar datos sintéticos con formas geométricas diferentes\n",
        "X1, _ = make_circles(n_samples=1000, factor=0.5, noise=0.05)\n",
        "X2, _ = make_moons(n_samples=1000, noise=0.05)\n",
        "X3, _ = make_blobs(n_samples=1000, centers=[[1, 2], [2, 3], [3, 4]], cluster_std=0.2)\n",
        "\n",
        "# Combinar los conjuntos de datos\n",
        "X = np.vstack([X1, X2, X3])\n",
        "\n",
        "# KMeans\n",
        "kmeans = KMeans(n_clusters=3, n_init=\"auto\")\n",
        "kmeans_labels = kmeans.fit_predict(X)\n",
        "\n",
        "# kNN\n",
        "knn = NearestNeighbors(n_neighbors=5)\n",
        "knn.fit(X)\n",
        "knn_distances, _ = knn.kneighbors(X, return_distance=True)\n",
        "knn_distances = np.mean(knn_distances, axis=1)\n",
        "\n",
        "# DBSCAN\n",
        "dbscan = DBSCAN(eps=0.2, min_samples=5)\n",
        "dbscan_labels = dbscan.fit_predict(X)\n",
        "\n",
        "# Plot\n",
        "plt.figure(figsize=(15, 5))\n",
        "\n",
        "plt.subplot(1, 3, 1)\n",
        "plt.scatter(X[:, 0], X[:, 1], c=kmeans_labels, cmap='viridis', s=10)\n",
        "plt.title('KMeans')\n",
        "\n",
        "plt.subplot(1, 3, 2)\n",
        "plt.scatter(X[:, 0], X[:, 1], c=knn_distances, cmap='viridis', s=10)\n",
        "plt.title('kNN')\n",
        "\n",
        "plt.subplot(1, 3, 3)\n",
        "plt.scatter(X[:, 0], X[:, 1], c=dbscan_labels, cmap='viridis', s=10)\n",
        "plt.title('DBSCAN')\n",
        "\n",
        "plt.show()\n",
        "\n",
        "from sklearn.metrics import silhouette_score\n",
        "\n",
        "# Calcular coeficiente de silueta para KMeans\n",
        "silhouette_kmeans = silhouette_score(X, kmeans_labels)\n",
        "\n",
        "# Calcular coeficiente de silueta para kNN\n",
        "#silhouette_knn = silhouette_score(X, knn_distances)\n",
        "\n",
        "# Calcular coeficiente de silueta para DBSCAN\n",
        "silhouette_dbscan = silhouette_score(X, dbscan_labels)\n",
        "\n",
        "print(\"Coeficiente de silueta para KMeans:\", silhouette_kmeans)\n",
        "#print(\"Coeficiente de silueta para kNN:\", silhouette_knn)\n",
        "print(\"Coeficiente de silueta para DBSCAN:\", silhouette_dbscan)\n"
      ]
    },
    {
      "cell_type": "code",
      "execution_count": null,
      "metadata": {
        "colab": {
          "base_uri": "https://localhost:8080/",
          "height": 504
        },
        "id": "mM9TrpJLaDtA",
        "outputId": "ddbdda0f-26f1-498f-b991-7c167f4ea8a0"
      },
      "outputs": [],
      "source": [
        "import numpy as np\n",
        "import matplotlib.pyplot as plt\n",
        "from sklearn.datasets import make_blobs\n",
        "from sklearn.cluster import KMeans\n",
        "from sklearn.neighbors import NearestNeighbors\n",
        "from sklearn.cluster import DBSCAN\n",
        "\n",
        "# Generar datos sintéticos con formas geométricas diferentes\n",
        "X1, _ = make_blobs(n_samples=500, centers=[[0, 0], [2, 3]], cluster_std=[0.5, 1.5])\n",
        "X2, _ = make_circles(n_samples=500, noise=0.1, factor=0.5)\n",
        "X3, _ = make_blobs(n_samples=500, centers=[[5, 5], [7, 6]], cluster_std=[0.3, 0.5])\n",
        "X4 = np.random.rand(200, 2) * 10  # Generar puntos dispersos aleatorios\n",
        "\n",
        "# Combinar los conjuntos de datos\n",
        "X = np.concatenate([X1, X2, X3, X4])\n",
        "\n",
        "# KMeans\n",
        "kmeans = KMeans(n_clusters=2, n_init=\"auto\")\n",
        "kmeans_labels = kmeans.fit_predict(X)\n",
        "\n",
        "# kNN\n",
        "knn = NearestNeighbors(n_neighbors=5)\n",
        "knn.fit(X)\n",
        "knn_distances, _ = knn.kneighbors(X, return_distance=True)\n",
        "knn_distances = np.mean(knn_distances, axis=1)\n",
        "\n",
        "# DBSCAN\n",
        "dbscan = DBSCAN(eps=0.5, min_samples=5)\n",
        "dbscan_labels = dbscan.fit_predict(X)\n",
        "\n",
        "# Plot\n",
        "plt.figure(figsize=(15, 5))\n",
        "\n",
        "plt.subplot(1, 3, 1)\n",
        "plt.scatter(X[:, 0], X[:, 1], c=kmeans_labels, cmap='viridis', s=10)\n",
        "plt.title('KMeans')\n",
        "\n",
        "plt.subplot(1, 3, 2)\n",
        "plt.scatter(X[:, 0], X[:, 1], c=knn_distances, cmap='viridis', s=10)\n",
        "plt.title('kNN')\n",
        "\n",
        "plt.subplot(1, 3, 3)\n",
        "plt.scatter(X[:, 0], X[:, 1], c=dbscan_labels, cmap='viridis', s=10)\n",
        "plt.title('DBSCAN')\n",
        "\n",
        "\n",
        "plt.show()\n",
        "\n",
        "\n",
        "from sklearn.metrics import silhouette_score\n",
        "\n",
        "# Calcular coeficiente de silueta para KMeans\n",
        "silhouette_kmeans = silhouette_score(X, kmeans_labels)\n",
        "\n",
        "# Calcular coeficiente de silueta para kNN\n",
        "#silhouette_knn = silhouette_score(X, knn_distances)\n",
        "\n",
        "# Calcular coeficiente de silueta para DBSCAN\n",
        "silhouette_dbscan = silhouette_score(X, dbscan_labels)\n",
        "\n",
        "print(\"Coeficiente de silueta para KMeans:\", silhouette_kmeans)\n",
        "#print(\"Coeficiente de silueta para kNN:\", silhouette_knn)\n",
        "print(\"Coeficiente de silueta para DBSCAN:\", silhouette_dbscan)"
      ]
    },
    {
      "cell_type": "code",
      "execution_count": null,
      "metadata": {
        "colab": {
          "base_uri": "https://localhost:8080/",
          "height": 524
        },
        "id": "DbaCazF9aPCQ",
        "outputId": "9dde6c2b-454d-4144-8798-15351adf12a3"
      },
      "outputs": [],
      "source": [
        "import numpy as np\n",
        "import matplotlib.pyplot as plt\n",
        "from sklearn.datasets import make_blobs\n",
        "from sklearn.cluster import KMeans\n",
        "from sklearn.cluster import DBSCAN\n",
        "from sklearn.metrics import silhouette_score\n",
        "\n",
        "# Generar datos sintéticos con formas geométricas diferentes\n",
        "X1, _ = make_blobs(n_samples=500, centers=[[0, 0], [2, 3]], cluster_std=[0.5, 1.5])\n",
        "X2, _ = make_circles(n_samples=500, noise=0.1, factor=0.5)\n",
        "X3, _ = make_blobs(n_samples=500, centers=[[5, 5], [7, 6]], cluster_std=[0.3, 0.5])\n",
        "X4 = np.random.rand(200, 2) * 10  # Generar puntos dispersos aleatorios\n",
        "\n",
        "# Combinar los conjuntos de datos\n",
        "X = np.concatenate([X1, X2, X3, X4])\n",
        "\n",
        "# KMeans\n",
        "kmeans = KMeans(n_clusters=4)\n",
        "kmeans_labels = kmeans.fit_predict(X)\n",
        "silhouette_kmeans = silhouette_score(X, kmeans_labels)\n",
        "\n",
        "# DBSCAN\n",
        "dbscan = DBSCAN(eps=0.5, min_samples=5)\n",
        "dbscan_labels = dbscan.fit_predict(X)\n",
        "if len(np.unique(dbscan_labels)) > 1:  # Verificar que haya más de un clúster\n",
        "    silhouette_dbscan = silhouette_score(X, dbscan_labels)\n",
        "else:\n",
        "    silhouette_dbscan = None\n",
        "\n",
        "# Plot\n",
        "plt.figure(figsize=(15, 5))\n",
        "\n",
        "plt.subplot(1, 2, 1)\n",
        "plt.scatter(X[:, 0], X[:, 1], c=kmeans_labels, cmap='viridis', s=10)\n",
        "plt.scatter(kmeans.cluster_centers_[:, 0], kmeans.cluster_centers_[:, 1], marker='x', s=200, color='red', label='Centroids')\n",
        "plt.title(f'KMeans (Silhouette Score: {silhouette_kmeans:.2f})')\n",
        "plt.legend()\n",
        "\n",
        "plt.subplot(1, 2, 2)\n",
        "plt.scatter(X[:, 0], X[:, 1], c=dbscan_labels, cmap='viridis', s=10)\n",
        "plt.title(f'DBSCAN (Silhouette Score: {silhouette_dbscan:.2f})')\n",
        "\n",
        "plt.show()\n"
      ]
    },
    {
      "cell_type": "markdown",
      "metadata": {
        "id": "6iawEdISXrl6"
      },
      "source": [
        "# Determinar el epsilon del DBSCAN\n",
        "* Distancia promedio de k-nearest neighbors:\n",
        "  * Para calcular la distancia promedio de los k-vecinos más cercanos para cada punto, primero se necesita calcular las distancias entre todos los pares de puntos en tu conjunto de datos. Luego, para cada punto, se ordenan las distancias a los demás puntos y toma las k distancias más cortas. Finalmente, calcula el promedio de estas k distancias para cada punto.\n",
        "\n",
        "* Regla del 5% o 2%:\n",
        "  * Para la regla del 5%, se ordenan todas las distancias entre puntos de menor a mayor y se selecciona el valor en el percentil 5. Para la regla del 2%, se hace lo mismo pero se selecciona el valor en el percentil 2."
      ]
    },
    {
      "cell_type": "code",
      "execution_count": null,
      "metadata": {
        "colab": {
          "base_uri": "https://localhost:8080/"
        },
        "id": "X8OiHhncLgjQ",
        "outputId": "2365d6a4-8489-4c8c-d111-b97ea5a71701"
      },
      "outputs": [],
      "source": [
        "import torch\n",
        "import numpy as np\n",
        "from sklearn.metrics.pairwise import pairwise_distances\n",
        "from sklearn.cluster import DBSCAN\n",
        "\n",
        "z0 = torch.randn(1, 10)  # Ejemplo de z0\n",
        "z1 = torch.randn(5000, 10)  # Ejemplo de z1\n",
        "z0_np = z0.cpu().detach().numpy()\n",
        "z1_np = z1.cpu().detach().numpy()\n",
        "\n",
        "\n",
        "import numpy as np\n",
        "from sklearn.neighbors import NearestNeighbors\n",
        "\n",
        "# Calcula la distancia promedio de k-vecinos más cercanos para cada punto\n",
        "k = 5  # Número de vecinos más cercanos\n",
        "nbrs = NearestNeighbors(n_neighbors=k).fit(z1_np)\n",
        "distances, _ = nbrs.kneighbors(z1_np)\n",
        "mean_distances = distances[:, 1:].mean()  # Excluimos la distancia al propio punto\n",
        "\n",
        "# Calcula el percentil 5% y 2% de las distancias entre puntos\n",
        "percentile_5 = np.percentile(distances[:, 1:], 5)\n",
        "percentile_2 = np.percentile(distances[:, 1:], 2)\n",
        "\n",
        "print(\"Distancia promedio de k-nearest neighbors:\", mean_distances)\n",
        "print(\"Percentil 5% de las distancias entre puntos:\", percentile_5)\n",
        "print(\"Percentil 2% de las distancias entre puntos:\", percentile_2)\n",
        "\n",
        "\n",
        "\n"
      ]
    },
    {
      "cell_type": "code",
      "execution_count": null,
      "metadata": {
        "colab": {
          "base_uri": "https://localhost:8080/"
        },
        "id": "75CfCQsURpDB",
        "outputId": "410cf0eb-a4bd-41ca-f840-334bdde0447e"
      },
      "outputs": [],
      "source": [
        "dbscan.labels_"
      ]
    },
    {
      "cell_type": "code",
      "execution_count": null,
      "metadata": {
        "id": "i6UwtQKFSLPl"
      },
      "outputs": [],
      "source": []
    },
    {
      "cell_type": "markdown",
      "metadata": {},
      "source": [
        "# Limpieza de datos"
      ]
    },
    {
      "cell_type": "markdown",
      "metadata": {},
      "source": [
        "## carga de datos"
      ]
    },
    {
      "cell_type": "code",
      "execution_count": 1,
      "metadata": {},
      "outputs": [],
      "source": [
        "import pandas as pd\n",
        "crime_data = pd.read_csv('datos/Crime_Data_from_2020_to_Present.csv')\n",
        "police_station_data = pd.read_csv('datos/Sheriff_and_Police_Stations.csv')"
      ]
    },
    {
      "cell_type": "markdown",
      "metadata": {},
      "source": [
        "## procesamiento crime data"
      ]
    },
    {
      "cell_type": "markdown",
      "metadata": {},
      "source": [
        "### Approach inicial"
      ]
    },
    {
      "cell_type": "code",
      "execution_count": 2,
      "metadata": {},
      "outputs": [
        {
          "data": {
            "text/html": [
              "<div>\n",
              "<style scoped>\n",
              "    .dataframe tbody tr th:only-of-type {\n",
              "        vertical-align: middle;\n",
              "    }\n",
              "\n",
              "    .dataframe tbody tr th {\n",
              "        vertical-align: top;\n",
              "    }\n",
              "\n",
              "    .dataframe thead th {\n",
              "        text-align: right;\n",
              "    }\n",
              "</style>\n",
              "<table border=\"1\" class=\"dataframe\">\n",
              "  <thead>\n",
              "    <tr style=\"text-align: right;\">\n",
              "      <th></th>\n",
              "      <th>DR_NO</th>\n",
              "      <th>Date Rptd</th>\n",
              "      <th>DATE OCC</th>\n",
              "      <th>TIME OCC</th>\n",
              "      <th>AREA</th>\n",
              "      <th>AREA NAME</th>\n",
              "      <th>Rpt Dist No</th>\n",
              "      <th>Part 1-2</th>\n",
              "      <th>Crm Cd</th>\n",
              "      <th>Crm Cd Desc</th>\n",
              "      <th>...</th>\n",
              "      <th>Status</th>\n",
              "      <th>Status Desc</th>\n",
              "      <th>Crm Cd 1</th>\n",
              "      <th>Crm Cd 2</th>\n",
              "      <th>Crm Cd 3</th>\n",
              "      <th>Crm Cd 4</th>\n",
              "      <th>LOCATION</th>\n",
              "      <th>Cross Street</th>\n",
              "      <th>LAT</th>\n",
              "      <th>LON</th>\n",
              "    </tr>\n",
              "  </thead>\n",
              "  <tbody>\n",
              "    <tr>\n",
              "      <th>0</th>\n",
              "      <td>190326475</td>\n",
              "      <td>03/01/2020 12:00:00 AM</td>\n",
              "      <td>03/01/2020 12:00:00 AM</td>\n",
              "      <td>2130</td>\n",
              "      <td>7</td>\n",
              "      <td>Wilshire</td>\n",
              "      <td>784</td>\n",
              "      <td>1</td>\n",
              "      <td>510</td>\n",
              "      <td>VEHICLE - STOLEN</td>\n",
              "      <td>...</td>\n",
              "      <td>AA</td>\n",
              "      <td>Adult Arrest</td>\n",
              "      <td>510.0</td>\n",
              "      <td>998.0</td>\n",
              "      <td>NaN</td>\n",
              "      <td>NaN</td>\n",
              "      <td>1900 S  LONGWOOD                     AV</td>\n",
              "      <td>NaN</td>\n",
              "      <td>34.0375</td>\n",
              "      <td>-118.3506</td>\n",
              "    </tr>\n",
              "    <tr>\n",
              "      <th>1</th>\n",
              "      <td>200106753</td>\n",
              "      <td>02/09/2020 12:00:00 AM</td>\n",
              "      <td>02/08/2020 12:00:00 AM</td>\n",
              "      <td>1800</td>\n",
              "      <td>1</td>\n",
              "      <td>Central</td>\n",
              "      <td>182</td>\n",
              "      <td>1</td>\n",
              "      <td>330</td>\n",
              "      <td>BURGLARY FROM VEHICLE</td>\n",
              "      <td>...</td>\n",
              "      <td>IC</td>\n",
              "      <td>Invest Cont</td>\n",
              "      <td>330.0</td>\n",
              "      <td>998.0</td>\n",
              "      <td>NaN</td>\n",
              "      <td>NaN</td>\n",
              "      <td>1000 S  FLOWER                       ST</td>\n",
              "      <td>NaN</td>\n",
              "      <td>34.0444</td>\n",
              "      <td>-118.2628</td>\n",
              "    </tr>\n",
              "    <tr>\n",
              "      <th>2</th>\n",
              "      <td>200320258</td>\n",
              "      <td>11/11/2020 12:00:00 AM</td>\n",
              "      <td>11/04/2020 12:00:00 AM</td>\n",
              "      <td>1700</td>\n",
              "      <td>3</td>\n",
              "      <td>Southwest</td>\n",
              "      <td>356</td>\n",
              "      <td>1</td>\n",
              "      <td>480</td>\n",
              "      <td>BIKE - STOLEN</td>\n",
              "      <td>...</td>\n",
              "      <td>IC</td>\n",
              "      <td>Invest Cont</td>\n",
              "      <td>480.0</td>\n",
              "      <td>NaN</td>\n",
              "      <td>NaN</td>\n",
              "      <td>NaN</td>\n",
              "      <td>1400 W  37TH                         ST</td>\n",
              "      <td>NaN</td>\n",
              "      <td>34.0210</td>\n",
              "      <td>-118.3002</td>\n",
              "    </tr>\n",
              "    <tr>\n",
              "      <th>3</th>\n",
              "      <td>200907217</td>\n",
              "      <td>05/10/2023 12:00:00 AM</td>\n",
              "      <td>03/10/2020 12:00:00 AM</td>\n",
              "      <td>2037</td>\n",
              "      <td>9</td>\n",
              "      <td>Van Nuys</td>\n",
              "      <td>964</td>\n",
              "      <td>1</td>\n",
              "      <td>343</td>\n",
              "      <td>SHOPLIFTING-GRAND THEFT ($950.01 &amp; OVER)</td>\n",
              "      <td>...</td>\n",
              "      <td>IC</td>\n",
              "      <td>Invest Cont</td>\n",
              "      <td>343.0</td>\n",
              "      <td>NaN</td>\n",
              "      <td>NaN</td>\n",
              "      <td>NaN</td>\n",
              "      <td>14000    RIVERSIDE                    DR</td>\n",
              "      <td>NaN</td>\n",
              "      <td>34.1576</td>\n",
              "      <td>-118.4387</td>\n",
              "    </tr>\n",
              "    <tr>\n",
              "      <th>4</th>\n",
              "      <td>220614831</td>\n",
              "      <td>08/18/2022 12:00:00 AM</td>\n",
              "      <td>08/17/2020 12:00:00 AM</td>\n",
              "      <td>1200</td>\n",
              "      <td>6</td>\n",
              "      <td>Hollywood</td>\n",
              "      <td>666</td>\n",
              "      <td>2</td>\n",
              "      <td>354</td>\n",
              "      <td>THEFT OF IDENTITY</td>\n",
              "      <td>...</td>\n",
              "      <td>IC</td>\n",
              "      <td>Invest Cont</td>\n",
              "      <td>354.0</td>\n",
              "      <td>NaN</td>\n",
              "      <td>NaN</td>\n",
              "      <td>NaN</td>\n",
              "      <td>1900    TRANSIENT</td>\n",
              "      <td>NaN</td>\n",
              "      <td>34.0944</td>\n",
              "      <td>-118.3277</td>\n",
              "    </tr>\n",
              "  </tbody>\n",
              "</table>\n",
              "<p>5 rows × 28 columns</p>\n",
              "</div>"
            ],
            "text/plain": [
              "       DR_NO               Date Rptd                DATE OCC  TIME OCC  AREA  \\\n",
              "0  190326475  03/01/2020 12:00:00 AM  03/01/2020 12:00:00 AM      2130     7   \n",
              "1  200106753  02/09/2020 12:00:00 AM  02/08/2020 12:00:00 AM      1800     1   \n",
              "2  200320258  11/11/2020 12:00:00 AM  11/04/2020 12:00:00 AM      1700     3   \n",
              "3  200907217  05/10/2023 12:00:00 AM  03/10/2020 12:00:00 AM      2037     9   \n",
              "4  220614831  08/18/2022 12:00:00 AM  08/17/2020 12:00:00 AM      1200     6   \n",
              "\n",
              "   AREA NAME  Rpt Dist No  Part 1-2  Crm Cd  \\\n",
              "0   Wilshire          784         1     510   \n",
              "1    Central          182         1     330   \n",
              "2  Southwest          356         1     480   \n",
              "3   Van Nuys          964         1     343   \n",
              "4  Hollywood          666         2     354   \n",
              "\n",
              "                                Crm Cd Desc  ... Status   Status Desc  \\\n",
              "0                          VEHICLE - STOLEN  ...     AA  Adult Arrest   \n",
              "1                     BURGLARY FROM VEHICLE  ...     IC   Invest Cont   \n",
              "2                             BIKE - STOLEN  ...     IC   Invest Cont   \n",
              "3  SHOPLIFTING-GRAND THEFT ($950.01 & OVER)  ...     IC   Invest Cont   \n",
              "4                         THEFT OF IDENTITY  ...     IC   Invest Cont   \n",
              "\n",
              "  Crm Cd 1 Crm Cd 2  Crm Cd 3 Crm Cd 4  \\\n",
              "0    510.0    998.0       NaN      NaN   \n",
              "1    330.0    998.0       NaN      NaN   \n",
              "2    480.0      NaN       NaN      NaN   \n",
              "3    343.0      NaN       NaN      NaN   \n",
              "4    354.0      NaN       NaN      NaN   \n",
              "\n",
              "                                   LOCATION Cross Street      LAT       LON  \n",
              "0   1900 S  LONGWOOD                     AV          NaN  34.0375 -118.3506  \n",
              "1   1000 S  FLOWER                       ST          NaN  34.0444 -118.2628  \n",
              "2   1400 W  37TH                         ST          NaN  34.0210 -118.3002  \n",
              "3  14000    RIVERSIDE                    DR          NaN  34.1576 -118.4387  \n",
              "4                         1900    TRANSIENT          NaN  34.0944 -118.3277  \n",
              "\n",
              "[5 rows x 28 columns]"
            ]
          },
          "execution_count": 2,
          "metadata": {},
          "output_type": "execute_result"
        }
      ],
      "source": [
        "crime_data.head()"
      ]
    },
    {
      "cell_type": "code",
      "execution_count": 3,
      "metadata": {},
      "outputs": [
        {
          "data": {
            "text/plain": [
              "(951608, 28)"
            ]
          },
          "execution_count": 3,
          "metadata": {},
          "output_type": "execute_result"
        }
      ],
      "source": [
        "crime_data.shape"
      ]
    },
    {
      "cell_type": "code",
      "execution_count": 4,
      "metadata": {},
      "outputs": [
        {
          "data": {
            "text/plain": [
              "(10, 28)"
            ]
          },
          "execution_count": 4,
          "metadata": {},
          "output_type": "execute_result"
        }
      ],
      "source": [
        "crime_data.dropna().shape"
      ]
    },
    {
      "cell_type": "code",
      "execution_count": 5,
      "metadata": {},
      "outputs": [
        {
          "data": {
            "text/plain": [
              "Index(['DR_NO', 'Date Rptd', 'DATE OCC', 'TIME OCC', 'AREA', 'AREA NAME',\n",
              "       'Rpt Dist No', 'Part 1-2', 'Crm Cd', 'Crm Cd Desc', 'Mocodes',\n",
              "       'Vict Age', 'Vict Sex', 'Vict Descent', 'Premis Cd', 'Premis Desc',\n",
              "       'Weapon Used Cd', 'Weapon Desc', 'Status', 'Status Desc', 'Crm Cd 1',\n",
              "       'Crm Cd 2', 'Crm Cd 3', 'Crm Cd 4', 'LOCATION', 'Cross Street', 'LAT',\n",
              "       'LON'],\n",
              "      dtype='object')"
            ]
          },
          "execution_count": 5,
          "metadata": {},
          "output_type": "execute_result"
        }
      ],
      "source": [
        "crime_data.columns"
      ]
    },
    {
      "cell_type": "code",
      "execution_count": 6,
      "metadata": {},
      "outputs": [
        {
          "name": "stdout",
          "output_type": "stream",
          "text": [
            "<class 'pandas.core.frame.DataFrame'>\n",
            "RangeIndex: 951608 entries, 0 to 951607\n",
            "Data columns (total 28 columns):\n",
            " #   Column          Non-Null Count   Dtype  \n",
            "---  ------          --------------   -----  \n",
            " 0   DR_NO           951608 non-null  int64  \n",
            " 1   Date Rptd       951608 non-null  object \n",
            " 2   DATE OCC        951608 non-null  object \n",
            " 3   TIME OCC        951608 non-null  int64  \n",
            " 4   AREA            951608 non-null  int64  \n",
            " 5   AREA NAME       951608 non-null  object \n",
            " 6   Rpt Dist No     951608 non-null  int64  \n",
            " 7   Part 1-2        951608 non-null  int64  \n",
            " 8   Crm Cd          951608 non-null  int64  \n",
            " 9   Crm Cd Desc     951608 non-null  object \n",
            " 10  Mocodes         816159 non-null  object \n",
            " 11  Vict Age        951608 non-null  int64  \n",
            " 12  Vict Sex        822716 non-null  object \n",
            " 13  Vict Descent    822706 non-null  object \n",
            " 14  Premis Cd       951597 non-null  float64\n",
            " 15  Premis Desc     951040 non-null  object \n",
            " 16  Weapon Used Cd  324847 non-null  float64\n",
            " 17  Weapon Desc     324847 non-null  object \n",
            " 18  Status          951607 non-null  object \n",
            " 19  Status Desc     951608 non-null  object \n",
            " 20  Crm Cd 1        951597 non-null  float64\n",
            " 21  Crm Cd 2        68396 non-null   float64\n",
            " 22  Crm Cd 3        2290 non-null    float64\n",
            " 23  Crm Cd 4        64 non-null      float64\n",
            " 24  LOCATION        951608 non-null  object \n",
            " 25  Cross Street    148487 non-null  object \n",
            " 26  LAT             951608 non-null  float64\n",
            " 27  LON             951608 non-null  float64\n",
            "dtypes: float64(8), int64(7), object(13)\n",
            "memory usage: 203.3+ MB\n"
          ]
        }
      ],
      "source": [
        "crime_data.info()"
      ]
    },
    {
      "cell_type": "code",
      "execution_count": 7,
      "metadata": {},
      "outputs": [
        {
          "name": "stdout",
          "output_type": "stream",
          "text": [
            "<class 'pandas.core.frame.DataFrame'>\n",
            "RangeIndex: 951608 entries, 0 to 951607\n",
            "Data columns (total 6 columns):\n",
            " #   Column          Non-Null Count   Dtype  \n",
            "---  ------          --------------   -----  \n",
            " 0   Weapon Used Cd  324847 non-null  float64\n",
            " 1   Weapon Desc     324847 non-null  object \n",
            " 2   Crm Cd 2        68396 non-null   float64\n",
            " 3   Crm Cd 3        2290 non-null    float64\n",
            " 4   Crm Cd 4        64 non-null      float64\n",
            " 5   Cross Street    148487 non-null  object \n",
            "dtypes: float64(4), object(2)\n",
            "memory usage: 43.6+ MB\n"
          ]
        }
      ],
      "source": [
        "crime_null_mask = crime_data.count() < 0.5*crime_data.shape[0]\n",
        "\n",
        "crime_drop_columns = crime_data.loc[:, crime_null_mask]\n",
        "\n",
        "crime_drop_columns.info()"
      ]
    },
    {
      "cell_type": "code",
      "execution_count": 8,
      "metadata": {},
      "outputs": [],
      "source": [
        "filtered_crime_data = crime_data[crime_data['Crm Cd 2'].notnull() & crime_data['Crm Cd 3'].notnull() & crime_data['Crm Cd 4'].notnull()]"
      ]
    },
    {
      "cell_type": "code",
      "execution_count": 9,
      "metadata": {},
      "outputs": [
        {
          "data": {
            "text/html": [
              "<div>\n",
              "<style scoped>\n",
              "    .dataframe tbody tr th:only-of-type {\n",
              "        vertical-align: middle;\n",
              "    }\n",
              "\n",
              "    .dataframe tbody tr th {\n",
              "        vertical-align: top;\n",
              "    }\n",
              "\n",
              "    .dataframe thead th {\n",
              "        text-align: right;\n",
              "    }\n",
              "</style>\n",
              "<table border=\"1\" class=\"dataframe\">\n",
              "  <thead>\n",
              "    <tr style=\"text-align: right;\">\n",
              "      <th></th>\n",
              "      <th>Crm Cd Desc</th>\n",
              "      <th>Crm Cd 1</th>\n",
              "      <th>Crm Cd 2</th>\n",
              "      <th>Crm Cd 3</th>\n",
              "      <th>Crm Cd 4</th>\n",
              "    </tr>\n",
              "  </thead>\n",
              "  <tbody>\n",
              "    <tr>\n",
              "      <th>2197</th>\n",
              "      <td>BRANDISH WEAPON</td>\n",
              "      <td>753.0</td>\n",
              "      <td>761.0</td>\n",
              "      <td>930.0</td>\n",
              "      <td>998.0</td>\n",
              "    </tr>\n",
              "    <tr>\n",
              "      <th>4122</th>\n",
              "      <td>ORAL COPULATION</td>\n",
              "      <td>210.0</td>\n",
              "      <td>820.0</td>\n",
              "      <td>910.0</td>\n",
              "      <td>998.0</td>\n",
              "    </tr>\n",
              "    <tr>\n",
              "      <th>27522</th>\n",
              "      <td>BURGLARY</td>\n",
              "      <td>310.0</td>\n",
              "      <td>888.0</td>\n",
              "      <td>933.0</td>\n",
              "      <td>998.0</td>\n",
              "    </tr>\n",
              "    <tr>\n",
              "      <th>36595</th>\n",
              "      <td>BRANDISH WEAPON</td>\n",
              "      <td>753.0</td>\n",
              "      <td>761.0</td>\n",
              "      <td>930.0</td>\n",
              "      <td>998.0</td>\n",
              "    </tr>\n",
              "    <tr>\n",
              "      <th>37570</th>\n",
              "      <td>BRANDISH WEAPON</td>\n",
              "      <td>626.0</td>\n",
              "      <td>761.0</td>\n",
              "      <td>930.0</td>\n",
              "      <td>998.0</td>\n",
              "    </tr>\n",
              "  </tbody>\n",
              "</table>\n",
              "</div>"
            ],
            "text/plain": [
              "           Crm Cd Desc  Crm Cd 1  Crm Cd 2  Crm Cd 3  Crm Cd 4\n",
              "2197   BRANDISH WEAPON     753.0     761.0     930.0     998.0\n",
              "4122   ORAL COPULATION     210.0     820.0     910.0     998.0\n",
              "27522         BURGLARY     310.0     888.0     933.0     998.0\n",
              "36595  BRANDISH WEAPON     753.0     761.0     930.0     998.0\n",
              "37570  BRANDISH WEAPON     626.0     761.0     930.0     998.0"
            ]
          },
          "execution_count": 9,
          "metadata": {},
          "output_type": "execute_result"
        }
      ],
      "source": [
        "filtered_crime_data[[\"Crm Cd Desc\", \"Crm Cd 1\", \"Crm Cd 2\", \"Crm Cd 3\", \"Crm Cd 4\"]].head()"
      ]
    },
    {
      "cell_type": "code",
      "execution_count": 10,
      "metadata": {},
      "outputs": [
        {
          "data": {
            "text/html": [
              "<div>\n",
              "<style scoped>\n",
              "    .dataframe tbody tr th:only-of-type {\n",
              "        vertical-align: middle;\n",
              "    }\n",
              "\n",
              "    .dataframe tbody tr th {\n",
              "        vertical-align: top;\n",
              "    }\n",
              "\n",
              "    .dataframe thead th {\n",
              "        text-align: right;\n",
              "    }\n",
              "</style>\n",
              "<table border=\"1\" class=\"dataframe\">\n",
              "  <thead>\n",
              "    <tr style=\"text-align: right;\">\n",
              "      <th></th>\n",
              "      <th>Weapon Used Cd</th>\n",
              "      <th>Weapon Desc</th>\n",
              "      <th>Crm Cd 2</th>\n",
              "      <th>Crm Cd 3</th>\n",
              "      <th>Crm Cd 4</th>\n",
              "      <th>Cross Street</th>\n",
              "    </tr>\n",
              "  </thead>\n",
              "  <tbody>\n",
              "    <tr>\n",
              "      <th>0</th>\n",
              "      <td>NaN</td>\n",
              "      <td>NaN</td>\n",
              "      <td>998.0</td>\n",
              "      <td>NaN</td>\n",
              "      <td>NaN</td>\n",
              "      <td>NaN</td>\n",
              "    </tr>\n",
              "    <tr>\n",
              "      <th>1</th>\n",
              "      <td>NaN</td>\n",
              "      <td>NaN</td>\n",
              "      <td>998.0</td>\n",
              "      <td>NaN</td>\n",
              "      <td>NaN</td>\n",
              "      <td>NaN</td>\n",
              "    </tr>\n",
              "    <tr>\n",
              "      <th>2</th>\n",
              "      <td>NaN</td>\n",
              "      <td>NaN</td>\n",
              "      <td>NaN</td>\n",
              "      <td>NaN</td>\n",
              "      <td>NaN</td>\n",
              "      <td>NaN</td>\n",
              "    </tr>\n",
              "    <tr>\n",
              "      <th>3</th>\n",
              "      <td>NaN</td>\n",
              "      <td>NaN</td>\n",
              "      <td>NaN</td>\n",
              "      <td>NaN</td>\n",
              "      <td>NaN</td>\n",
              "      <td>NaN</td>\n",
              "    </tr>\n",
              "    <tr>\n",
              "      <th>4</th>\n",
              "      <td>NaN</td>\n",
              "      <td>NaN</td>\n",
              "      <td>NaN</td>\n",
              "      <td>NaN</td>\n",
              "      <td>NaN</td>\n",
              "      <td>NaN</td>\n",
              "    </tr>\n",
              "  </tbody>\n",
              "</table>\n",
              "</div>"
            ],
            "text/plain": [
              "   Weapon Used Cd Weapon Desc  Crm Cd 2  Crm Cd 3  Crm Cd 4 Cross Street\n",
              "0             NaN         NaN     998.0       NaN       NaN          NaN\n",
              "1             NaN         NaN     998.0       NaN       NaN          NaN\n",
              "2             NaN         NaN       NaN       NaN       NaN          NaN\n",
              "3             NaN         NaN       NaN       NaN       NaN          NaN\n",
              "4             NaN         NaN       NaN       NaN       NaN          NaN"
            ]
          },
          "execution_count": 10,
          "metadata": {},
          "output_type": "execute_result"
        }
      ],
      "source": [
        "crime_drop_columns.head()"
      ]
    },
    {
      "cell_type": "code",
      "execution_count": 11,
      "metadata": {},
      "outputs": [
        {
          "data": {
            "text/plain": [
              "DR_NO                                           190326475\n",
              "Date Rptd                          03/01/2020 12:00:00 AM\n",
              "DATE OCC                           03/01/2020 12:00:00 AM\n",
              "TIME OCC                                             2130\n",
              "AREA                                                    7\n",
              "AREA NAME                                        Wilshire\n",
              "Rpt Dist No                                           784\n",
              "Part 1-2                                                1\n",
              "Crm Cd                                                510\n",
              "Crm Cd Desc                              VEHICLE - STOLEN\n",
              "Mocodes                                               NaN\n",
              "Vict Age                                                0\n",
              "Vict Sex                                                M\n",
              "Vict Descent                                            O\n",
              "Premis Cd                                           101.0\n",
              "Premis Desc                                        STREET\n",
              "Weapon Used Cd                                        NaN\n",
              "Weapon Desc                                           NaN\n",
              "Status                                                 AA\n",
              "Status Desc                                  Adult Arrest\n",
              "Crm Cd 1                                            510.0\n",
              "Crm Cd 2                                            998.0\n",
              "Crm Cd 3                                              NaN\n",
              "Crm Cd 4                                              NaN\n",
              "LOCATION          1900 S  LONGWOOD                     AV\n",
              "Cross Street                                          NaN\n",
              "LAT                                               34.0375\n",
              "LON                                             -118.3506\n",
              "Name: 0, dtype: object"
            ]
          },
          "execution_count": 11,
          "metadata": {},
          "output_type": "execute_result"
        }
      ],
      "source": [
        "crime_data.iloc[0]"
      ]
    },
    {
      "cell_type": "code",
      "execution_count": 12,
      "metadata": {},
      "outputs": [
        {
          "data": {
            "text/plain": [
              "139"
            ]
          },
          "execution_count": 12,
          "metadata": {},
          "output_type": "execute_result"
        }
      ],
      "source": [
        "len(crime_data['Crm Cd Desc'].unique())"
      ]
    },
    {
      "cell_type": "code",
      "execution_count": 13,
      "metadata": {},
      "outputs": [
        {
          "data": {
            "text/html": [
              "<div>\n",
              "<style scoped>\n",
              "    .dataframe tbody tr th:only-of-type {\n",
              "        vertical-align: middle;\n",
              "    }\n",
              "\n",
              "    .dataframe tbody tr th {\n",
              "        vertical-align: top;\n",
              "    }\n",
              "\n",
              "    .dataframe thead th {\n",
              "        text-align: right;\n",
              "    }\n",
              "</style>\n",
              "<table border=\"1\" class=\"dataframe\">\n",
              "  <thead>\n",
              "    <tr style=\"text-align: right;\">\n",
              "      <th></th>\n",
              "      <th>DR_NO</th>\n",
              "      <th>TIME OCC</th>\n",
              "      <th>AREA</th>\n",
              "      <th>Rpt Dist No</th>\n",
              "      <th>Part 1-2</th>\n",
              "      <th>Crm Cd</th>\n",
              "      <th>Vict Age</th>\n",
              "      <th>Premis Cd</th>\n",
              "      <th>Weapon Used Cd</th>\n",
              "      <th>Crm Cd 1</th>\n",
              "      <th>Crm Cd 2</th>\n",
              "      <th>Crm Cd 3</th>\n",
              "      <th>Crm Cd 4</th>\n",
              "      <th>LAT</th>\n",
              "      <th>LON</th>\n",
              "    </tr>\n",
              "  </thead>\n",
              "  <tbody>\n",
              "    <tr>\n",
              "      <th>count</th>\n",
              "      <td>9.516080e+05</td>\n",
              "      <td>951608.000000</td>\n",
              "      <td>951608.000000</td>\n",
              "      <td>951608.000000</td>\n",
              "      <td>951608.000000</td>\n",
              "      <td>951608.000000</td>\n",
              "      <td>951608.000000</td>\n",
              "      <td>951597.000000</td>\n",
              "      <td>324847.000000</td>\n",
              "      <td>951597.000000</td>\n",
              "      <td>68396.000000</td>\n",
              "      <td>2290.000000</td>\n",
              "      <td>64.00000</td>\n",
              "      <td>951608.000000</td>\n",
              "      <td>951608.000000</td>\n",
              "    </tr>\n",
              "    <tr>\n",
              "      <th>mean</th>\n",
              "      <td>2.190496e+08</td>\n",
              "      <td>1338.341955</td>\n",
              "      <td>10.719191</td>\n",
              "      <td>1118.360299</td>\n",
              "      <td>1.408414</td>\n",
              "      <td>500.705176</td>\n",
              "      <td>29.421099</td>\n",
              "      <td>306.345652</td>\n",
              "      <td>363.732683</td>\n",
              "      <td>500.451795</td>\n",
              "      <td>958.112960</td>\n",
              "      <td>984.076856</td>\n",
              "      <td>991.21875</td>\n",
              "      <td>33.993038</td>\n",
              "      <td>-118.073178</td>\n",
              "    </tr>\n",
              "    <tr>\n",
              "      <th>std</th>\n",
              "      <td>1.256555e+07</td>\n",
              "      <td>652.290381</td>\n",
              "      <td>6.100278</td>\n",
              "      <td>610.080017</td>\n",
              "      <td>0.491541</td>\n",
              "      <td>206.999706</td>\n",
              "      <td>21.900237</td>\n",
              "      <td>217.733925</td>\n",
              "      <td>123.590202</td>\n",
              "      <td>206.792747</td>\n",
              "      <td>110.279437</td>\n",
              "      <td>51.703875</td>\n",
              "      <td>27.06985</td>\n",
              "      <td>1.663752</td>\n",
              "      <td>5.766987</td>\n",
              "    </tr>\n",
              "    <tr>\n",
              "      <th>min</th>\n",
              "      <td>8.170000e+02</td>\n",
              "      <td>1.000000</td>\n",
              "      <td>1.000000</td>\n",
              "      <td>101.000000</td>\n",
              "      <td>1.000000</td>\n",
              "      <td>110.000000</td>\n",
              "      <td>-4.000000</td>\n",
              "      <td>101.000000</td>\n",
              "      <td>101.000000</td>\n",
              "      <td>110.000000</td>\n",
              "      <td>210.000000</td>\n",
              "      <td>310.000000</td>\n",
              "      <td>821.00000</td>\n",
              "      <td>0.000000</td>\n",
              "      <td>-118.667600</td>\n",
              "    </tr>\n",
              "    <tr>\n",
              "      <th>25%</th>\n",
              "      <td>2.105111e+08</td>\n",
              "      <td>900.000000</td>\n",
              "      <td>6.000000</td>\n",
              "      <td>621.000000</td>\n",
              "      <td>1.000000</td>\n",
              "      <td>331.000000</td>\n",
              "      <td>0.000000</td>\n",
              "      <td>101.000000</td>\n",
              "      <td>311.000000</td>\n",
              "      <td>331.000000</td>\n",
              "      <td>998.000000</td>\n",
              "      <td>998.000000</td>\n",
              "      <td>998.00000</td>\n",
              "      <td>34.014500</td>\n",
              "      <td>-118.430700</td>\n",
              "    </tr>\n",
              "    <tr>\n",
              "      <th>50%</th>\n",
              "      <td>2.207081e+08</td>\n",
              "      <td>1420.000000</td>\n",
              "      <td>11.000000</td>\n",
              "      <td>1142.000000</td>\n",
              "      <td>1.000000</td>\n",
              "      <td>442.000000</td>\n",
              "      <td>30.000000</td>\n",
              "      <td>203.000000</td>\n",
              "      <td>400.000000</td>\n",
              "      <td>442.000000</td>\n",
              "      <td>998.000000</td>\n",
              "      <td>998.000000</td>\n",
              "      <td>998.00000</td>\n",
              "      <td>34.059000</td>\n",
              "      <td>-118.322500</td>\n",
              "    </tr>\n",
              "    <tr>\n",
              "      <th>75%</th>\n",
              "      <td>2.307134e+08</td>\n",
              "      <td>1900.000000</td>\n",
              "      <td>16.000000</td>\n",
              "      <td>1619.000000</td>\n",
              "      <td>2.000000</td>\n",
              "      <td>626.000000</td>\n",
              "      <td>45.000000</td>\n",
              "      <td>501.000000</td>\n",
              "      <td>400.000000</td>\n",
              "      <td>626.000000</td>\n",
              "      <td>998.000000</td>\n",
              "      <td>998.000000</td>\n",
              "      <td>998.00000</td>\n",
              "      <td>34.164900</td>\n",
              "      <td>-118.274000</td>\n",
              "    </tr>\n",
              "    <tr>\n",
              "      <th>max</th>\n",
              "      <td>2.499187e+08</td>\n",
              "      <td>2359.000000</td>\n",
              "      <td>21.000000</td>\n",
              "      <td>2199.000000</td>\n",
              "      <td>2.000000</td>\n",
              "      <td>956.000000</td>\n",
              "      <td>120.000000</td>\n",
              "      <td>976.000000</td>\n",
              "      <td>516.000000</td>\n",
              "      <td>956.000000</td>\n",
              "      <td>999.000000</td>\n",
              "      <td>999.000000</td>\n",
              "      <td>999.00000</td>\n",
              "      <td>34.334300</td>\n",
              "      <td>0.000000</td>\n",
              "    </tr>\n",
              "  </tbody>\n",
              "</table>\n",
              "</div>"
            ],
            "text/plain": [
              "              DR_NO       TIME OCC           AREA    Rpt Dist No  \\\n",
              "count  9.516080e+05  951608.000000  951608.000000  951608.000000   \n",
              "mean   2.190496e+08    1338.341955      10.719191    1118.360299   \n",
              "std    1.256555e+07     652.290381       6.100278     610.080017   \n",
              "min    8.170000e+02       1.000000       1.000000     101.000000   \n",
              "25%    2.105111e+08     900.000000       6.000000     621.000000   \n",
              "50%    2.207081e+08    1420.000000      11.000000    1142.000000   \n",
              "75%    2.307134e+08    1900.000000      16.000000    1619.000000   \n",
              "max    2.499187e+08    2359.000000      21.000000    2199.000000   \n",
              "\n",
              "            Part 1-2         Crm Cd       Vict Age      Premis Cd  \\\n",
              "count  951608.000000  951608.000000  951608.000000  951597.000000   \n",
              "mean        1.408414     500.705176      29.421099     306.345652   \n",
              "std         0.491541     206.999706      21.900237     217.733925   \n",
              "min         1.000000     110.000000      -4.000000     101.000000   \n",
              "25%         1.000000     331.000000       0.000000     101.000000   \n",
              "50%         1.000000     442.000000      30.000000     203.000000   \n",
              "75%         2.000000     626.000000      45.000000     501.000000   \n",
              "max         2.000000     956.000000     120.000000     976.000000   \n",
              "\n",
              "       Weapon Used Cd       Crm Cd 1      Crm Cd 2     Crm Cd 3   Crm Cd 4  \\\n",
              "count   324847.000000  951597.000000  68396.000000  2290.000000   64.00000   \n",
              "mean       363.732683     500.451795    958.112960   984.076856  991.21875   \n",
              "std        123.590202     206.792747    110.279437    51.703875   27.06985   \n",
              "min        101.000000     110.000000    210.000000   310.000000  821.00000   \n",
              "25%        311.000000     331.000000    998.000000   998.000000  998.00000   \n",
              "50%        400.000000     442.000000    998.000000   998.000000  998.00000   \n",
              "75%        400.000000     626.000000    998.000000   998.000000  998.00000   \n",
              "max        516.000000     956.000000    999.000000   999.000000  999.00000   \n",
              "\n",
              "                 LAT            LON  \n",
              "count  951608.000000  951608.000000  \n",
              "mean       33.993038    -118.073178  \n",
              "std         1.663752       5.766987  \n",
              "min         0.000000    -118.667600  \n",
              "25%        34.014500    -118.430700  \n",
              "50%        34.059000    -118.322500  \n",
              "75%        34.164900    -118.274000  \n",
              "max        34.334300       0.000000  "
            ]
          },
          "execution_count": 13,
          "metadata": {},
          "output_type": "execute_result"
        }
      ],
      "source": [
        "crime_data.describe()"
      ]
    },
    {
      "cell_type": "markdown",
      "metadata": {},
      "source": [
        "### Comienzo del procesamiento"
      ]
    },
    {
      "cell_type": "markdown",
      "metadata": {},
      "source": [
        "primero se bucan todas las columnas con valores nulos"
      ]
    },
    {
      "cell_type": "code",
      "execution_count": 14,
      "metadata": {},
      "outputs": [
        {
          "name": "stdout",
          "output_type": "stream",
          "text": [
            "<class 'pandas.core.frame.DataFrame'>\n",
            "RangeIndex: 951608 entries, 0 to 951607\n",
            "Data columns (total 13 columns):\n",
            " #   Column          Non-Null Count   Dtype  \n",
            "---  ------          --------------   -----  \n",
            " 0   Mocodes         816159 non-null  object \n",
            " 1   Vict Sex        822716 non-null  object \n",
            " 2   Vict Descent    822706 non-null  object \n",
            " 3   Premis Cd       951597 non-null  float64\n",
            " 4   Premis Desc     951040 non-null  object \n",
            " 5   Weapon Used Cd  324847 non-null  float64\n",
            " 6   Weapon Desc     324847 non-null  object \n",
            " 7   Status          951607 non-null  object \n",
            " 8   Crm Cd 1        951597 non-null  float64\n",
            " 9   Crm Cd 2        68396 non-null   float64\n",
            " 10  Crm Cd 3        2290 non-null    float64\n",
            " 11  Crm Cd 4        64 non-null      float64\n",
            " 12  Cross Street    148487 non-null  object \n",
            "dtypes: float64(6), object(7)\n",
            "memory usage: 94.4+ MB\n"
          ]
        }
      ],
      "source": [
        "crime_anynull_mask = crime_data.count() < crime_data.shape[0]\n",
        "\n",
        "crime_dropany_columns = crime_data.loc[:, crime_anynull_mask]\n",
        "\n",
        "crime_dropany_columns.info()"
      ]
    },
    {
      "cell_type": "code",
      "execution_count": 15,
      "metadata": {},
      "outputs": [
        {
          "data": {
            "text/html": [
              "<div>\n",
              "<style scoped>\n",
              "    .dataframe tbody tr th:only-of-type {\n",
              "        vertical-align: middle;\n",
              "    }\n",
              "\n",
              "    .dataframe tbody tr th {\n",
              "        vertical-align: top;\n",
              "    }\n",
              "\n",
              "    .dataframe thead th {\n",
              "        text-align: right;\n",
              "    }\n",
              "</style>\n",
              "<table border=\"1\" class=\"dataframe\">\n",
              "  <thead>\n",
              "    <tr style=\"text-align: right;\">\n",
              "      <th></th>\n",
              "      <th>Mocodes</th>\n",
              "      <th>Vict Sex</th>\n",
              "      <th>Vict Descent</th>\n",
              "      <th>Premis Cd</th>\n",
              "      <th>Premis Desc</th>\n",
              "      <th>Weapon Used Cd</th>\n",
              "      <th>Weapon Desc</th>\n",
              "      <th>Status</th>\n",
              "      <th>Crm Cd 1</th>\n",
              "      <th>Crm Cd 2</th>\n",
              "      <th>Crm Cd 3</th>\n",
              "      <th>Crm Cd 4</th>\n",
              "      <th>Cross Street</th>\n",
              "    </tr>\n",
              "  </thead>\n",
              "  <tbody>\n",
              "    <tr>\n",
              "      <th>0</th>\n",
              "      <td>NaN</td>\n",
              "      <td>M</td>\n",
              "      <td>O</td>\n",
              "      <td>101.0</td>\n",
              "      <td>STREET</td>\n",
              "      <td>NaN</td>\n",
              "      <td>NaN</td>\n",
              "      <td>AA</td>\n",
              "      <td>510.0</td>\n",
              "      <td>998.0</td>\n",
              "      <td>NaN</td>\n",
              "      <td>NaN</td>\n",
              "      <td>NaN</td>\n",
              "    </tr>\n",
              "    <tr>\n",
              "      <th>1</th>\n",
              "      <td>1822 1402 0344</td>\n",
              "      <td>M</td>\n",
              "      <td>O</td>\n",
              "      <td>128.0</td>\n",
              "      <td>BUS STOP/LAYOVER (ALSO QUERY 124)</td>\n",
              "      <td>NaN</td>\n",
              "      <td>NaN</td>\n",
              "      <td>IC</td>\n",
              "      <td>330.0</td>\n",
              "      <td>998.0</td>\n",
              "      <td>NaN</td>\n",
              "      <td>NaN</td>\n",
              "      <td>NaN</td>\n",
              "    </tr>\n",
              "    <tr>\n",
              "      <th>2</th>\n",
              "      <td>0344 1251</td>\n",
              "      <td>X</td>\n",
              "      <td>X</td>\n",
              "      <td>502.0</td>\n",
              "      <td>MULTI-UNIT DWELLING (APARTMENT, DUPLEX, ETC)</td>\n",
              "      <td>NaN</td>\n",
              "      <td>NaN</td>\n",
              "      <td>IC</td>\n",
              "      <td>480.0</td>\n",
              "      <td>NaN</td>\n",
              "      <td>NaN</td>\n",
              "      <td>NaN</td>\n",
              "      <td>NaN</td>\n",
              "    </tr>\n",
              "    <tr>\n",
              "      <th>3</th>\n",
              "      <td>0325 1501</td>\n",
              "      <td>M</td>\n",
              "      <td>O</td>\n",
              "      <td>405.0</td>\n",
              "      <td>CLOTHING STORE</td>\n",
              "      <td>NaN</td>\n",
              "      <td>NaN</td>\n",
              "      <td>IC</td>\n",
              "      <td>343.0</td>\n",
              "      <td>NaN</td>\n",
              "      <td>NaN</td>\n",
              "      <td>NaN</td>\n",
              "      <td>NaN</td>\n",
              "    </tr>\n",
              "    <tr>\n",
              "      <th>4</th>\n",
              "      <td>1822 1501 0930 2004</td>\n",
              "      <td>M</td>\n",
              "      <td>H</td>\n",
              "      <td>102.0</td>\n",
              "      <td>SIDEWALK</td>\n",
              "      <td>NaN</td>\n",
              "      <td>NaN</td>\n",
              "      <td>IC</td>\n",
              "      <td>354.0</td>\n",
              "      <td>NaN</td>\n",
              "      <td>NaN</td>\n",
              "      <td>NaN</td>\n",
              "      <td>NaN</td>\n",
              "    </tr>\n",
              "  </tbody>\n",
              "</table>\n",
              "</div>"
            ],
            "text/plain": [
              "               Mocodes Vict Sex Vict Descent  Premis Cd  \\\n",
              "0                  NaN        M            O      101.0   \n",
              "1       1822 1402 0344        M            O      128.0   \n",
              "2            0344 1251        X            X      502.0   \n",
              "3            0325 1501        M            O      405.0   \n",
              "4  1822 1501 0930 2004        M            H      102.0   \n",
              "\n",
              "                                    Premis Desc  Weapon Used Cd Weapon Desc  \\\n",
              "0                                        STREET             NaN         NaN   \n",
              "1             BUS STOP/LAYOVER (ALSO QUERY 124)             NaN         NaN   \n",
              "2  MULTI-UNIT DWELLING (APARTMENT, DUPLEX, ETC)             NaN         NaN   \n",
              "3                                CLOTHING STORE             NaN         NaN   \n",
              "4                                      SIDEWALK             NaN         NaN   \n",
              "\n",
              "  Status  Crm Cd 1  Crm Cd 2  Crm Cd 3  Crm Cd 4 Cross Street  \n",
              "0     AA     510.0     998.0       NaN       NaN          NaN  \n",
              "1     IC     330.0     998.0       NaN       NaN          NaN  \n",
              "2     IC     480.0       NaN       NaN       NaN          NaN  \n",
              "3     IC     343.0       NaN       NaN       NaN          NaN  \n",
              "4     IC     354.0       NaN       NaN       NaN          NaN  "
            ]
          },
          "execution_count": 15,
          "metadata": {},
          "output_type": "execute_result"
        }
      ],
      "source": [
        "crime_dropany_columns.head()"
      ]
    },
    {
      "cell_type": "markdown",
      "metadata": {},
      "source": [
        "Tras una invesigación se busca ahondar en el significado de cada columna para realizar el procesamiento adecuado para cada una:\n",
        "\n",
        "- Mocodes:  [Modus Opeandis Codes](https://www.bolton.ac.uk/blogs/criminal-justice-what-is-a-modus-operandi)\n",
        "- Vict Sex: Victim Sex\n",
        "- Vict Descent:  [Victim Race](https://ambarishg.github.io/littlebookdataviz/victim-descent.html)\n",
        "- Premis Cd: Codigo que identifica el tipo de lugar del crimen\n",
        "- Premid Desc: Descripcion del tipo de lugar asociado al codigo\n",
        "- Idem para columnas Weapon.\n",
        "- Status: Parece ser una descripcion sobre el rango etario y el estado del crimen, pero no es [Concluyente](https://github.com/priyanka21sk/- LA-Crime-Data-Analysis-using-R)\n",
        "- Crm Cd: Crime codes, parece ser que mintras más crimenes se asocian a un acto, más codigos se le asocian\n",
        "- Cross Street: [Intersección con calle principal](https://www.merriam-webster.com/dictionary/cross%20street#:~:text=%3A%20a%20street%20intersecting%20a%20main,of%20it%20compare%20side%20street) "
      ]
    },
    {
      "cell_type": "code",
      "execution_count": 16,
      "metadata": {},
      "outputs": [],
      "source": [
        "crime_data['Mocodes'] = crime_data['Mocodes'].fillna('Unknown')"
      ]
    },
    {
      "cell_type": "code",
      "execution_count": 17,
      "metadata": {},
      "outputs": [
        {
          "data": {
            "text/plain": [
              "Unknown                               135449\n",
              "0344                                   38838\n",
              "0329                                   20598\n",
              "1822 0344                              12780\n",
              "1501                                    9450\n",
              "                                       ...  \n",
              "2004 1218 0345 0334 0344 1822              1\n",
              "2038 0913 1814 0416                        1\n",
              "0329 0400 1822 1501 2004 1300              1\n",
              "0334 0355 0337 1822 0906 0302 0344         1\n",
              "2047 0400 0429 0444 1202 1822              1\n",
              "Name: Mocodes, Length: 307303, dtype: int64"
            ]
          },
          "execution_count": 17,
          "metadata": {},
          "output_type": "execute_result"
        }
      ],
      "source": [
        "crime_data['Mocodes'].value_counts(dropna=False)"
      ]
    },
    {
      "cell_type": "markdown",
      "metadata": {},
      "source": [
        "Se podria hacer un drop sobre las filas con valor H y -"
      ]
    },
    {
      "cell_type": "code",
      "execution_count": 18,
      "metadata": {},
      "outputs": [
        {
          "data": {
            "text/plain": [
              "M    387964\n",
              "F    345872\n",
              "X     88772\n",
              "H       107\n",
              "-         1\n",
              "Name: Vict Sex, dtype: int64"
            ]
          },
          "execution_count": 18,
          "metadata": {},
          "output_type": "execute_result"
        }
      ],
      "source": [
        "crime_dropany_columns['Vict Sex'].value_counts()"
      ]
    },
    {
      "cell_type": "code",
      "execution_count": 19,
      "metadata": {},
      "outputs": [],
      "source": [
        "# drop all columns from the crime data dataframe where Victim Sex is H or -\n",
        "crime_data.drop(crime_data[crime_data[\"Vict Sex\"].isin(['H', '-'])].index, inplace=True)\n"
      ]
    },
    {
      "cell_type": "code",
      "execution_count": 20,
      "metadata": {},
      "outputs": [
        {
          "data": {
            "text/plain": [
              "M      387964\n",
              "F      345872\n",
              "NaN    128892\n",
              "X       88772\n",
              "Name: Vict Sex, dtype: int64"
            ]
          },
          "execution_count": 20,
          "metadata": {},
          "output_type": "execute_result"
        }
      ],
      "source": [
        "crime_data['Vict Sex'].value_counts(dropna=False)"
      ]
    },
    {
      "cell_type": "markdown",
      "metadata": {},
      "source": [
        "dropna de valor -"
      ]
    },
    {
      "cell_type": "code",
      "execution_count": 21,
      "metadata": {},
      "outputs": [
        {
          "data": {
            "text/plain": [
              "H    287715\n",
              "W    191824\n",
              "B    132197\n",
              "X     97408\n",
              "O     74870\n",
              "A     20721\n",
              "K      5313\n",
              "F      4203\n",
              "C      3917\n",
              "J      1365\n",
              "V      1033\n",
              "I       921\n",
              "Z       488\n",
              "P       258\n",
              "U       201\n",
              "D        81\n",
              "G        69\n",
              "L        66\n",
              "S        54\n",
              "-         2\n",
              "Name: Vict Descent, dtype: int64"
            ]
          },
          "execution_count": 21,
          "metadata": {},
          "output_type": "execute_result"
        }
      ],
      "source": [
        "crime_dropany_columns['Vict Descent'].value_counts()"
      ]
    },
    {
      "cell_type": "code",
      "execution_count": 22,
      "metadata": {},
      "outputs": [],
      "source": [
        "crime_data.drop(crime_data[crime_data[\"Vict Descent\"].isin(['-'])].index, inplace=True)"
      ]
    },
    {
      "cell_type": "code",
      "execution_count": 23,
      "metadata": {},
      "outputs": [
        {
          "data": {
            "text/plain": [
              "H      287686\n",
              "W      191814\n",
              "B      132191\n",
              "NaN    128902\n",
              "X       97402\n",
              "O       74866\n",
              "A       20720\n",
              "K        5313\n",
              "F        4153\n",
              "C        3917\n",
              "J        1365\n",
              "V        1033\n",
              "I         921\n",
              "Z         488\n",
              "P         258\n",
              "U         201\n",
              "D          81\n",
              "G          69\n",
              "L          65\n",
              "S          54\n",
              "Name: Vict Descent, dtype: int64"
            ]
          },
          "execution_count": 23,
          "metadata": {},
          "output_type": "execute_result"
        }
      ],
      "source": [
        "crime_data['Vict Descent'].value_counts(dropna=False)"
      ]
    },
    {
      "cell_type": "markdown",
      "metadata": {},
      "source": [
        "se observa que no existe el codigo 0 es weapon used cd"
      ]
    },
    {
      "cell_type": "code",
      "execution_count": 24,
      "metadata": {},
      "outputs": [
        {
          "data": {
            "text/plain": [
              "400.0    174018\n",
              "500.0     35419\n",
              "511.0     23751\n",
              "102.0     19995\n",
              "109.0      7218\n",
              "          ...  \n",
              "120.0         3\n",
              "121.0         2\n",
              "119.0         2\n",
              "124.0         2\n",
              "123.0         1\n",
              "Name: Weapon Used Cd, Length: 79, dtype: int64"
            ]
          },
          "execution_count": 24,
          "metadata": {},
          "output_type": "execute_result"
        }
      ],
      "source": [
        "crime_dropany_columns['Weapon Used Cd'].value_counts()"
      ]
    },
    {
      "cell_type": "code",
      "execution_count": 25,
      "metadata": {},
      "outputs": [
        {
          "data": {
            "text/plain": [
              "False"
            ]
          },
          "execution_count": 25,
          "metadata": {},
          "output_type": "execute_result"
        }
      ],
      "source": [
        "(crime_dropany_columns['Weapon Used Cd'] == 0).any()"
      ]
    },
    {
      "cell_type": "code",
      "execution_count": 26,
      "metadata": {},
      "outputs": [],
      "source": [
        "weapon_code_no_weapon = 0 \n",
        "crime_data['Weapon Used Cd'] = crime_data['Weapon Used Cd'].fillna(weapon_code_no_weapon)\n",
        "crime_data['Weapon Desc'] = crime_data['Weapon Desc'].fillna('No Weapon')"
      ]
    },
    {
      "cell_type": "markdown",
      "metadata": {},
      "source": [
        "se revisa para poner codigo 0 como vacio para reemplazar al null."
      ]
    },
    {
      "cell_type": "code",
      "execution_count": 27,
      "metadata": {},
      "outputs": [
        {
          "name": "stdout",
          "output_type": "stream",
          "text": [
            "Crime code 1 has 0 values:False\n",
            "Crime code 2 has 0 values:False\n",
            "Crime code 3 has 0 values:False\n",
            "Crime code 4 has 0 values:False\n"
          ]
        }
      ],
      "source": [
        "# print statements that declare if Crm Cd 2, Crm Cd 3, and Crm Cd 4 have any zero values, they have text explaining the meaning of the zero value\n",
        "print(f\"Crime code 1 has 0 values:{(crime_dropany_columns['Crm Cd 1'] == 0).any()}\")\n",
        "print(f\"Crime code 2 has 0 values:{(crime_dropany_columns['Crm Cd 2'] == 0).any()}\")\n",
        "print(f\"Crime code 3 has 0 values:{(crime_dropany_columns['Crm Cd 3'] == 0).any()}\")\n",
        "print(f\"Crime code 4 has 0 values:{(crime_dropany_columns['Crm Cd 4'] == 0).any()}\")"
      ]
    },
    {
      "cell_type": "code",
      "execution_count": 28,
      "metadata": {},
      "outputs": [],
      "source": [
        "crime_data['Crm Cd 1'] = crime_data['Crm Cd 1'].fillna(0)\n",
        "crime_data['Crm Cd 2'] = crime_data['Crm Cd 2'].fillna(0)\n",
        "crime_data['Crm Cd 3'] = crime_data['Crm Cd 3'].fillna(0)\n",
        "crime_data['Crm Cd 4'] = crime_data['Crm Cd 4'].fillna(0)"
      ]
    },
    {
      "cell_type": "code",
      "execution_count": 29,
      "metadata": {},
      "outputs": [],
      "source": [
        "crime_data['Cross Street'] = crime_data['Cross Street'].fillna('N/A')\n"
      ]
    },
    {
      "cell_type": "code",
      "execution_count": 30,
      "metadata": {},
      "outputs": [],
      "source": [
        "crime_data['Status'] = crime_data['Status'].fillna('Unknown')"
      ]
    },
    {
      "cell_type": "code",
      "execution_count": 31,
      "metadata": {},
      "outputs": [],
      "source": [
        "crime_data['Premis Desc'] = crime_data['Premis Desc'].fillna('Unknown')"
      ]
    },
    {
      "cell_type": "code",
      "execution_count": 32,
      "metadata": {},
      "outputs": [
        {
          "name": "stdout",
          "output_type": "stream",
          "text": [
            "Premise code has 0 values:False\n"
          ]
        }
      ],
      "source": [
        "print(f\"Premise code has 0 values:{(crime_dropany_columns['Premis Cd'] == 0).any()}\")"
      ]
    },
    {
      "cell_type": "code",
      "execution_count": 33,
      "metadata": {},
      "outputs": [],
      "source": [
        "crime_data['Premis Cd'] = crime_data['Premis Cd'].fillna(0)"
      ]
    },
    {
      "cell_type": "markdown",
      "metadata": {},
      "source": [
        "Observación sobre los cambios generados"
      ]
    },
    {
      "cell_type": "code",
      "execution_count": 34,
      "metadata": {},
      "outputs": [
        {
          "name": "stdout",
          "output_type": "stream",
          "text": [
            "<class 'pandas.core.frame.DataFrame'>\n",
            "Int64Index: 951499 entries, 0 to 951607\n",
            "Data columns (total 2 columns):\n",
            " #   Column        Non-Null Count   Dtype \n",
            "---  ------        --------------   ----- \n",
            " 0   Vict Sex      822607 non-null  object\n",
            " 1   Vict Descent  822597 non-null  object\n",
            "dtypes: object(2)\n",
            "memory usage: 21.8+ MB\n"
          ]
        }
      ],
      "source": [
        "processed_crime_anynull_mask = crime_data.count() < crime_data.shape[0]\n",
        "\n",
        "processed_crime_dropany_columns = crime_data.loc[:, processed_crime_anynull_mask]\n",
        "\n",
        "processed_crime_dropany_columns.info()"
      ]
    },
    {
      "cell_type": "markdown",
      "metadata": {},
      "source": [
        "Notar que para ambas columnas existe el NaN y el X. Para el caso de \"Vict Sex\" X se considerará como [no bianrio](https://www.latimes.com/california/story/2022-11-30/heres-how-many-californians-opted-for-nonbinary-drivers-licenses-or-id-cards-since-2019) por lo cual NaN se considerará como los casos donde no se pudo determinar, probablemente desconociendo la identidad de la victima. Se procede a analizar esto último."
      ]
    },
    {
      "cell_type": "code",
      "execution_count": 43,
      "metadata": {},
      "outputs": [
        {
          "data": {
            "text/plain": [
              "M      387963\n",
              "F      345872\n",
              "NaN    128892\n",
              "X       88772\n",
              "Name: Vict Sex, dtype: int64"
            ]
          },
          "execution_count": 43,
          "metadata": {},
          "output_type": "execute_result"
        }
      ],
      "source": [
        "crime_data[\"Vict Sex\"].value_counts(dropna=False)"
      ]
    },
    {
      "cell_type": "code",
      "execution_count": 44,
      "metadata": {},
      "outputs": [
        {
          "data": {
            "text/plain": [
              "Index(['DR_NO', 'Date Rptd', 'DATE OCC', 'TIME OCC', 'AREA', 'AREA NAME',\n",
              "       'Rpt Dist No', 'Part 1-2', 'Crm Cd', 'Crm Cd Desc', 'Mocodes',\n",
              "       'Vict Age', 'Vict Sex', 'Vict Descent', 'Premis Cd', 'Premis Desc',\n",
              "       'Weapon Used Cd', 'Weapon Desc', 'Status', 'Status Desc', 'Crm Cd 1',\n",
              "       'Crm Cd 2', 'Crm Cd 3', 'Crm Cd 4', 'LOCATION', 'Cross Street', 'LAT',\n",
              "       'LON'],\n",
              "      dtype='object')"
            ]
          },
          "execution_count": 44,
          "metadata": {},
          "output_type": "execute_result"
        }
      ],
      "source": [
        "crime_data.columns"
      ]
    },
    {
      "cell_type": "code",
      "execution_count": 48,
      "metadata": {},
      "outputs": [],
      "source": [
        "unidentified = crime_data.loc[pd.isna(crime_data[\"Vict Sex\"]), [\"Vict Age\", \"Vict Sex\", \"Vict Descent\"]]"
      ]
    },
    {
      "cell_type": "code",
      "execution_count": 52,
      "metadata": {},
      "outputs": [
        {
          "data": {
            "text/plain": [
              "(128892, 3)"
            ]
          },
          "execution_count": 52,
          "metadata": {},
          "output_type": "execute_result"
        }
      ],
      "source": [
        "unidentified.shape"
      ]
    },
    {
      "cell_type": "code",
      "execution_count": 49,
      "metadata": {},
      "outputs": [
        {
          "data": {
            "text/plain": [
              "0      128860\n",
              "21          8\n",
              "19          3\n",
              "22          3\n",
              "20          3\n",
              "32          2\n",
              "40          2\n",
              "36          2\n",
              "120         1\n",
              "51          1\n",
              "26          1\n",
              "61          1\n",
              "38          1\n",
              "48          1\n",
              "39          1\n",
              "83          1\n",
              "31          1\n",
              "Name: Vict Age, dtype: int64"
            ]
          },
          "execution_count": 49,
          "metadata": {},
          "output_type": "execute_result"
        }
      ],
      "source": [
        "unidentified[\"Vict Age\"].value_counts()"
      ]
    },
    {
      "cell_type": "code",
      "execution_count": 51,
      "metadata": {},
      "outputs": [
        {
          "data": {
            "text/plain": [
              "NaN    128887\n",
              "W           2\n",
              "H           1\n",
              "B           1\n",
              "X           1\n",
              "Name: Vict Descent, dtype: int64"
            ]
          },
          "execution_count": 51,
          "metadata": {},
          "output_type": "execute_result"
        }
      ],
      "source": [
        "unidentified[\"Vict Descent\"].value_counts(dropna=False)"
      ]
    },
    {
      "cell_type": "markdown",
      "metadata": {},
      "source": [
        "Dado que gran parte de los datos donde el sexo de la victima es desconocido, la edad y la raza también, se continua con el supuesto que sexo NaN es que no se pudo determinar, en el contexto del dataset puede ser porque no se encuentra a la victima o por la indole del crimen."
      ]
    },
    {
      "cell_type": "code",
      "execution_count": 55,
      "metadata": {},
      "outputs": [],
      "source": [
        "crime_data[\"Vict Sex\"] = crime_data[\"Vict Sex\"].fillna(\"Unknown\")"
      ]
    },
    {
      "cell_type": "markdown",
      "metadata": {},
      "source": [
        "Para el caso de la raza de la victima, la categoria X ya representa un \"unknown\" se decide unificar con los NaN. Comprobar con la fuente asociada en el analisis inciial de estas columnas."
      ]
    },
    {
      "cell_type": "code",
      "execution_count": 56,
      "metadata": {},
      "outputs": [],
      "source": [
        "crime_data[\"Vict Descent\"] = crime_data[\"Vict Descent\"].fillna(\"Unknown\")"
      ]
    },
    {
      "cell_type": "code",
      "execution_count": 57,
      "metadata": {},
      "outputs": [
        {
          "name": "stdout",
          "output_type": "stream",
          "text": [
            "<class 'pandas.core.frame.DataFrame'>\n",
            "Int64Index: 951499 entries, 0 to 951607\n",
            "Empty DataFrame"
          ]
        }
      ],
      "source": [
        "processed_crime_anynull_mask = crime_data.count() < crime_data.shape[0]\n",
        "\n",
        "processed_crime_dropany_columns = crime_data.loc[:, processed_crime_anynull_mask]\n",
        "\n",
        "processed_crime_dropany_columns.info()"
      ]
    },
    {
      "cell_type": "markdown",
      "metadata": {},
      "source": [
        "Para terminar se observan las columnas que no presentan datos nulos"
      ]
    },
    {
      "cell_type": "code",
      "execution_count": 63,
      "metadata": {},
      "outputs": [
        {
          "data": {
            "text/html": [
              "<div>\n",
              "<style scoped>\n",
              "    .dataframe tbody tr th:only-of-type {\n",
              "        vertical-align: middle;\n",
              "    }\n",
              "\n",
              "    .dataframe tbody tr th {\n",
              "        vertical-align: top;\n",
              "    }\n",
              "\n",
              "    .dataframe thead th {\n",
              "        text-align: right;\n",
              "    }\n",
              "</style>\n",
              "<table border=\"1\" class=\"dataframe\">\n",
              "  <thead>\n",
              "    <tr style=\"text-align: right;\">\n",
              "      <th></th>\n",
              "      <th>AREA</th>\n",
              "      <th>Crm Cd</th>\n",
              "      <th>DR_NO</th>\n",
              "      <th>LAT</th>\n",
              "      <th>LON</th>\n",
              "      <th>Part 1-2</th>\n",
              "      <th>Rpt Dist No</th>\n",
              "      <th>TIME OCC</th>\n",
              "      <th>Vict Age</th>\n",
              "    </tr>\n",
              "  </thead>\n",
              "  <tbody>\n",
              "    <tr>\n",
              "      <th>count</th>\n",
              "      <td>951499.000000</td>\n",
              "      <td>951499.000000</td>\n",
              "      <td>9.514990e+05</td>\n",
              "      <td>951499.000000</td>\n",
              "      <td>951499.000000</td>\n",
              "      <td>951499.000000</td>\n",
              "      <td>951499.000000</td>\n",
              "      <td>951499.000000</td>\n",
              "      <td>951499.000000</td>\n",
              "    </tr>\n",
              "    <tr>\n",
              "      <th>mean</th>\n",
              "      <td>10.719092</td>\n",
              "      <td>500.714253</td>\n",
              "      <td>2.190495e+08</td>\n",
              "      <td>33.993030</td>\n",
              "      <td>-118.073150</td>\n",
              "      <td>1.408415</td>\n",
              "      <td>1118.350309</td>\n",
              "      <td>1338.345597</td>\n",
              "      <td>29.420153</td>\n",
              "    </tr>\n",
              "    <tr>\n",
              "      <th>std</th>\n",
              "      <td>6.100271</td>\n",
              "      <td>207.001892</td>\n",
              "      <td>1.256558e+07</td>\n",
              "      <td>1.663847</td>\n",
              "      <td>5.767317</td>\n",
              "      <td>0.491541</td>\n",
              "      <td>610.079197</td>\n",
              "      <td>652.281003</td>\n",
              "      <td>21.900619</td>\n",
              "    </tr>\n",
              "    <tr>\n",
              "      <th>min</th>\n",
              "      <td>1.000000</td>\n",
              "      <td>110.000000</td>\n",
              "      <td>8.170000e+02</td>\n",
              "      <td>0.000000</td>\n",
              "      <td>-118.667600</td>\n",
              "      <td>1.000000</td>\n",
              "      <td>101.000000</td>\n",
              "      <td>1.000000</td>\n",
              "      <td>-4.000000</td>\n",
              "    </tr>\n",
              "    <tr>\n",
              "      <th>25%</th>\n",
              "      <td>6.000000</td>\n",
              "      <td>331.000000</td>\n",
              "      <td>2.105111e+08</td>\n",
              "      <td>34.014500</td>\n",
              "      <td>-118.430700</td>\n",
              "      <td>1.000000</td>\n",
              "      <td>621.000000</td>\n",
              "      <td>900.000000</td>\n",
              "      <td>0.000000</td>\n",
              "    </tr>\n",
              "    <tr>\n",
              "      <th>50%</th>\n",
              "      <td>11.000000</td>\n",
              "      <td>442.000000</td>\n",
              "      <td>2.207081e+08</td>\n",
              "      <td>34.059000</td>\n",
              "      <td>-118.322500</td>\n",
              "      <td>1.000000</td>\n",
              "      <td>1142.000000</td>\n",
              "      <td>1420.000000</td>\n",
              "      <td>30.000000</td>\n",
              "    </tr>\n",
              "    <tr>\n",
              "      <th>75%</th>\n",
              "      <td>16.000000</td>\n",
              "      <td>626.000000</td>\n",
              "      <td>2.307134e+08</td>\n",
              "      <td>34.164900</td>\n",
              "      <td>-118.274000</td>\n",
              "      <td>2.000000</td>\n",
              "      <td>1618.000000</td>\n",
              "      <td>1900.000000</td>\n",
              "      <td>45.000000</td>\n",
              "    </tr>\n",
              "    <tr>\n",
              "      <th>max</th>\n",
              "      <td>21.000000</td>\n",
              "      <td>956.000000</td>\n",
              "      <td>2.499187e+08</td>\n",
              "      <td>34.334300</td>\n",
              "      <td>0.000000</td>\n",
              "      <td>2.000000</td>\n",
              "      <td>2199.000000</td>\n",
              "      <td>2359.000000</td>\n",
              "      <td>120.000000</td>\n",
              "    </tr>\n",
              "  </tbody>\n",
              "</table>\n",
              "</div>"
            ],
            "text/plain": [
              "                AREA         Crm Cd         DR_NO            LAT  \\\n",
              "count  951499.000000  951499.000000  9.514990e+05  951499.000000   \n",
              "mean       10.719092     500.714253  2.190495e+08      33.993030   \n",
              "std         6.100271     207.001892  1.256558e+07       1.663847   \n",
              "min         1.000000     110.000000  8.170000e+02       0.000000   \n",
              "25%         6.000000     331.000000  2.105111e+08      34.014500   \n",
              "50%        11.000000     442.000000  2.207081e+08      34.059000   \n",
              "75%        16.000000     626.000000  2.307134e+08      34.164900   \n",
              "max        21.000000     956.000000  2.499187e+08      34.334300   \n",
              "\n",
              "                 LON       Part 1-2    Rpt Dist No       TIME OCC  \\\n",
              "count  951499.000000  951499.000000  951499.000000  951499.000000   \n",
              "mean     -118.073150       1.408415    1118.350309    1338.345597   \n",
              "std         5.767317       0.491541     610.079197     652.281003   \n",
              "min      -118.667600       1.000000     101.000000       1.000000   \n",
              "25%      -118.430700       1.000000     621.000000     900.000000   \n",
              "50%      -118.322500       1.000000    1142.000000    1420.000000   \n",
              "75%      -118.274000       2.000000    1618.000000    1900.000000   \n",
              "max         0.000000       2.000000    2199.000000    2359.000000   \n",
              "\n",
              "            Vict Age  \n",
              "count  951499.000000  \n",
              "mean       29.420153  \n",
              "std        21.900619  \n",
              "min        -4.000000  \n",
              "25%         0.000000  \n",
              "50%        30.000000  \n",
              "75%        45.000000  \n",
              "max       120.000000  "
            ]
          },
          "execution_count": 63,
          "metadata": {},
          "output_type": "execute_result"
        }
      ],
      "source": [
        "# Assuming crime_data and crime_dropany_columns are both pandas DataFrames\n",
        "columns_not_in_dropany = crime_data.columns.difference(crime_dropany_columns.columns)\n",
        "\n",
        "# Selecting these columns from crime_data\n",
        "result = crime_data[columns_not_in_dropany]\n",
        "\n",
        "result.describe()"
      ]
    },
    {
      "cell_type": "markdown",
      "metadata": {},
      "source": [
        "Resalta que el primer cuartil de las edades sea 0 y el minimo -4, puede ser que las edades no identificadas no se encuentren unificadas."
      ]
    },
    {
      "cell_type": "code",
      "execution_count": 64,
      "metadata": {},
      "outputs": [
        {
          "data": {
            "text/plain": [
              " 0      243764\n",
              " 30      21393\n",
              " 35      20956\n",
              " 31      20513\n",
              " 29      20441\n",
              "         ...  \n",
              " 98         70\n",
              "-2          25\n",
              "-3           4\n",
              "-4           3\n",
              " 120         1\n",
              "Name: Vict Age, Length: 104, dtype: int64"
            ]
          },
          "execution_count": 64,
          "metadata": {},
          "output_type": "execute_result"
        }
      ],
      "source": [
        "crime_data[\"Vict Age\"].value_counts()"
      ]
    },
    {
      "cell_type": "code",
      "execution_count": 74,
      "metadata": {},
      "outputs": [],
      "source": [
        "import numpy as np"
      ]
    },
    {
      "cell_type": "code",
      "execution_count": 75,
      "metadata": {},
      "outputs": [
        {
          "data": {
            "text/plain": [
              "array([ -4,  -3,  -2,  -1,   0,   2,   3,   4,   5,   6,   7,   8,   9,\n",
              "        10,  11,  12,  13,  14,  15,  16,  17,  18,  19,  20,  21,  22,\n",
              "        23,  24,  25,  26,  27,  28,  29,  30,  31,  32,  33,  34,  35,\n",
              "        36,  37,  38,  39,  40,  41,  42,  43,  44,  45,  46,  47,  48,\n",
              "        49,  50,  51,  52,  53,  54,  55,  56,  57,  58,  59,  60,  61,\n",
              "        62,  63,  64,  65,  66,  67,  68,  69,  70,  71,  72,  73,  74,\n",
              "        75,  76,  77,  78,  79,  80,  81,  82,  83,  84,  85,  86,  87,\n",
              "        88,  89,  90,  91,  92,  93,  94,  95,  96,  97,  98,  99, 120])"
            ]
          },
          "execution_count": 75,
          "metadata": {},
          "output_type": "execute_result"
        }
      ],
      "source": [
        "np.sort(crime_data[\"Vict Age\"].unique())"
      ]
    },
    {
      "cell_type": "markdown",
      "metadata": {},
      "source": [
        "Se decide unificar las edades -4, -3, -2, -1 y 0 bajo -1 para denotar una edad no determinada"
      ]
    },
    {
      "cell_type": "code",
      "execution_count": 76,
      "metadata": {},
      "outputs": [
        {
          "name": "stdout",
          "output_type": "stream",
          "text": [
            "[ -1   2   3   4   5   6   7   8   9  10  11  12  13  14  15  16  17  18\n",
            "  19  20  21  22  23  24  25  26  27  28  29  30  31  32  33  34  35  36\n",
            "  37  38  39  40  41  42  43  44  45  46  47  48  49  50  51  52  53  54\n",
            "  55  56  57  58  59  60  61  62  63  64  65  66  67  68  69  70  71  72\n",
            "  73  74  75  76  77  78  79  80  81  82  83  84  85  86  87  88  89  90\n",
            "  91  92  93  94  95  96  97  98  99 120]\n"
          ]
        }
      ],
      "source": [
        "ages_to_replace = [-4, -3, -2, -1, 0]\n",
        "crime_data['Vict Age'] = crime_data['Vict Age'].replace(ages_to_replace, -1)\n",
        "print(np.sort(crime_data['Vict Age'].unique()))"
      ]
    },
    {
      "cell_type": "code",
      "execution_count": 78,
      "metadata": {},
      "outputs": [
        {
          "data": {
            "text/plain": [
              "-1      243888\n",
              " 30      21393\n",
              " 35      20956\n",
              " 31      20513\n",
              " 29      20441\n",
              "         ...  \n",
              " 95         98\n",
              " 96         94\n",
              " 97         71\n",
              " 98         70\n",
              " 120         1\n",
              "Name: Vict Age, Length: 100, dtype: int64"
            ]
          },
          "execution_count": 78,
          "metadata": {},
          "output_type": "execute_result"
        }
      ],
      "source": [
        "crime_data['Vict Age'].value_counts()"
      ]
    },
    {
      "cell_type": "markdown",
      "metadata": {},
      "source": [
        "## procesamiento police station"
      ]
    },
    {
      "cell_type": "code",
      "execution_count": 36,
      "metadata": {},
      "outputs": [
        {
          "data": {
            "text/html": [
              "<div>\n",
              "<style scoped>\n",
              "    .dataframe tbody tr th:only-of-type {\n",
              "        vertical-align: middle;\n",
              "    }\n",
              "\n",
              "    .dataframe tbody tr th {\n",
              "        vertical-align: top;\n",
              "    }\n",
              "\n",
              "    .dataframe thead th {\n",
              "        text-align: right;\n",
              "    }\n",
              "</style>\n",
              "<table border=\"1\" class=\"dataframe\">\n",
              "  <thead>\n",
              "    <tr style=\"text-align: right;\">\n",
              "      <th></th>\n",
              "      <th>X</th>\n",
              "      <th>Y</th>\n",
              "      <th>OBJECTID</th>\n",
              "      <th>source</th>\n",
              "      <th>ext_id</th>\n",
              "      <th>cat1</th>\n",
              "      <th>cat2</th>\n",
              "      <th>cat3</th>\n",
              "      <th>org_name</th>\n",
              "      <th>name</th>\n",
              "      <th>...</th>\n",
              "      <th>latitude</th>\n",
              "      <th>longitude</th>\n",
              "      <th>date_updated</th>\n",
              "      <th>dis_status</th>\n",
              "      <th>POINT_X</th>\n",
              "      <th>POINT_Y</th>\n",
              "      <th>OBJECTID_1</th>\n",
              "      <th>allcats</th>\n",
              "      <th>nameUrlFriendly</th>\n",
              "      <th>isCounty</th>\n",
              "    </tr>\n",
              "  </thead>\n",
              "  <tbody>\n",
              "    <tr>\n",
              "      <th>0</th>\n",
              "      <td>-118.185705</td>\n",
              "      <td>33.844639</td>\n",
              "      <td>513</td>\n",
              "      <td>211</td>\n",
              "      <td>3034969</td>\n",
              "      <td>Public Safety</td>\n",
              "      <td>Sheriff and Police Stations</td>\n",
              "      <td>NaN</td>\n",
              "      <td>www.longbeach.gov/police/</td>\n",
              "      <td>Long Beach Police Department - North Patrol Di...</td>\n",
              "      <td>...</td>\n",
              "      <td>33.844639</td>\n",
              "      <td>-118.185705</td>\n",
              "      <td>2020/07/14 23:14:10+00</td>\n",
              "      <td>NaN</td>\n",
              "      <td>6.505278e+06</td>\n",
              "      <td>1.765893e+06</td>\n",
              "      <td>0</td>\n",
              "      <td>|Public Safety|Sheriff and Police Stations|</td>\n",
              "      <td>long-beach-police-department---north-patrol-di...</td>\n",
              "      <td>0</td>\n",
              "    </tr>\n",
              "    <tr>\n",
              "      <th>1</th>\n",
              "      <td>-118.126663</td>\n",
              "      <td>33.941363</td>\n",
              "      <td>859</td>\n",
              "      <td>Current Services Locator</td>\n",
              "      <td>3038049</td>\n",
              "      <td>Public Safety</td>\n",
              "      <td>Sheriff and Police Stations</td>\n",
              "      <td>NaN</td>\n",
              "      <td>LA County</td>\n",
              "      <td>Downey Police Department</td>\n",
              "      <td>...</td>\n",
              "      <td>33.941363</td>\n",
              "      <td>-118.126663</td>\n",
              "      <td>2020/07/14 23:14:48+00</td>\n",
              "      <td>NaN</td>\n",
              "      <td>6.523252e+06</td>\n",
              "      <td>1.801065e+06</td>\n",
              "      <td>0</td>\n",
              "      <td>|Public Safety|Sheriff and Police Stations|</td>\n",
              "      <td>downey-police-department</td>\n",
              "      <td>0</td>\n",
              "    </tr>\n",
              "    <tr>\n",
              "      <th>2</th>\n",
              "      <td>-118.307637</td>\n",
              "      <td>33.883727</td>\n",
              "      <td>1021</td>\n",
              "      <td>211</td>\n",
              "      <td>3039500</td>\n",
              "      <td>Public Safety</td>\n",
              "      <td>Sheriff and Police Stations</td>\n",
              "      <td>NaN</td>\n",
              "      <td>www.gardenapd.org</td>\n",
              "      <td>City Of Gardena Police Department</td>\n",
              "      <td>...</td>\n",
              "      <td>33.883727</td>\n",
              "      <td>-118.307637</td>\n",
              "      <td>2020/07/14 23:14:10+00</td>\n",
              "      <td>NaN</td>\n",
              "      <td>6.468296e+06</td>\n",
              "      <td>1.780209e+06</td>\n",
              "      <td>0</td>\n",
              "      <td>|Public Safety|Sheriff and Police Stations|</td>\n",
              "      <td>city-of-gardena-police-department</td>\n",
              "      <td>0</td>\n",
              "    </tr>\n",
              "    <tr>\n",
              "      <th>3</th>\n",
              "      <td>-118.091208</td>\n",
              "      <td>33.946408</td>\n",
              "      <td>1218</td>\n",
              "      <td>211</td>\n",
              "      <td>3041264</td>\n",
              "      <td>Public Safety</td>\n",
              "      <td>Sheriff and Police Stations</td>\n",
              "      <td>NaN</td>\n",
              "      <td>www.chp.ca.gov</td>\n",
              "      <td>California State Highway Patrol - Chp - Santa ...</td>\n",
              "      <td>...</td>\n",
              "      <td>33.946408</td>\n",
              "      <td>-118.091208</td>\n",
              "      <td>2020/07/14 23:14:11+00</td>\n",
              "      <td>NaN</td>\n",
              "      <td>6.534007e+06</td>\n",
              "      <td>1.802890e+06</td>\n",
              "      <td>0</td>\n",
              "      <td>|Public Safety|Sheriff and Police Stations|</td>\n",
              "      <td>california-state-highway-patrol---chp---santa-...</td>\n",
              "      <td>0</td>\n",
              "    </tr>\n",
              "    <tr>\n",
              "      <th>4</th>\n",
              "      <td>-117.969381</td>\n",
              "      <td>34.065952</td>\n",
              "      <td>1939</td>\n",
              "      <td>211</td>\n",
              "      <td>3048031</td>\n",
              "      <td>Public Safety</td>\n",
              "      <td>Sheriff and Police Stations</td>\n",
              "      <td>NaN</td>\n",
              "      <td>www.chp.ca.gov</td>\n",
              "      <td>California State Highway Patrol - Chp - Baldwi...</td>\n",
              "      <td>...</td>\n",
              "      <td>34.065952</td>\n",
              "      <td>-117.969381</td>\n",
              "      <td>2020/07/14 23:14:11+00</td>\n",
              "      <td>NaN</td>\n",
              "      <td>6.570944e+06</td>\n",
              "      <td>1.846383e+06</td>\n",
              "      <td>0</td>\n",
              "      <td>|Public Safety|Sheriff and Police Stations|</td>\n",
              "      <td>california-state-highway-patrol---chp---baldwi...</td>\n",
              "      <td>0</td>\n",
              "    </tr>\n",
              "  </tbody>\n",
              "</table>\n",
              "<p>5 rows × 35 columns</p>\n",
              "</div>"
            ],
            "text/plain": [
              "            X          Y  OBJECTID                    source   ext_id  \\\n",
              "0 -118.185705  33.844639       513                       211  3034969   \n",
              "1 -118.126663  33.941363       859  Current Services Locator  3038049   \n",
              "2 -118.307637  33.883727      1021                       211  3039500   \n",
              "3 -118.091208  33.946408      1218                       211  3041264   \n",
              "4 -117.969381  34.065952      1939                       211  3048031   \n",
              "\n",
              "            cat1                         cat2 cat3                   org_name  \\\n",
              "0  Public Safety  Sheriff and Police Stations  NaN  www.longbeach.gov/police/   \n",
              "1  Public Safety  Sheriff and Police Stations  NaN                  LA County   \n",
              "2  Public Safety  Sheriff and Police Stations  NaN          www.gardenapd.org   \n",
              "3  Public Safety  Sheriff and Police Stations  NaN             www.chp.ca.gov   \n",
              "4  Public Safety  Sheriff and Police Stations  NaN             www.chp.ca.gov   \n",
              "\n",
              "                                                name  ...   latitude  \\\n",
              "0  Long Beach Police Department - North Patrol Di...  ...  33.844639   \n",
              "1                           Downey Police Department  ...  33.941363   \n",
              "2                  City Of Gardena Police Department  ...  33.883727   \n",
              "3  California State Highway Patrol - Chp - Santa ...  ...  33.946408   \n",
              "4  California State Highway Patrol - Chp - Baldwi...  ...  34.065952   \n",
              "\n",
              "    longitude            date_updated dis_status       POINT_X       POINT_Y  \\\n",
              "0 -118.185705  2020/07/14 23:14:10+00        NaN  6.505278e+06  1.765893e+06   \n",
              "1 -118.126663  2020/07/14 23:14:48+00        NaN  6.523252e+06  1.801065e+06   \n",
              "2 -118.307637  2020/07/14 23:14:10+00        NaN  6.468296e+06  1.780209e+06   \n",
              "3 -118.091208  2020/07/14 23:14:11+00        NaN  6.534007e+06  1.802890e+06   \n",
              "4 -117.969381  2020/07/14 23:14:11+00        NaN  6.570944e+06  1.846383e+06   \n",
              "\n",
              "  OBJECTID_1                                      allcats  \\\n",
              "0          0  |Public Safety|Sheriff and Police Stations|   \n",
              "1          0  |Public Safety|Sheriff and Police Stations|   \n",
              "2          0  |Public Safety|Sheriff and Police Stations|   \n",
              "3          0  |Public Safety|Sheriff and Police Stations|   \n",
              "4          0  |Public Safety|Sheriff and Police Stations|   \n",
              "\n",
              "                                     nameUrlFriendly  isCounty  \n",
              "0  long-beach-police-department---north-patrol-di...         0  \n",
              "1                           downey-police-department         0  \n",
              "2                  city-of-gardena-police-department         0  \n",
              "3  california-state-highway-patrol---chp---santa-...         0  \n",
              "4  california-state-highway-patrol---chp---baldwi...         0  \n",
              "\n",
              "[5 rows x 35 columns]"
            ]
          },
          "execution_count": 36,
          "metadata": {},
          "output_type": "execute_result"
        }
      ],
      "source": [
        "police_station_data.head()"
      ]
    },
    {
      "cell_type": "code",
      "execution_count": 37,
      "metadata": {},
      "outputs": [
        {
          "data": {
            "text/plain": [
              "Index(['X', 'Y', 'OBJECTID', 'source', 'ext_id', 'cat1', 'cat2', 'cat3',\n",
              "       'org_name', 'name', 'addrln1', 'addrln2', 'city', 'state', 'hours',\n",
              "       'phones', 'email', 'url', 'info1', 'info2', 'post_id', 'description',\n",
              "       'zip', 'link', 'use_type', 'latitude', 'longitude', 'date_updated',\n",
              "       'dis_status', 'POINT_X', 'POINT_Y', 'OBJECTID_1', 'allcats',\n",
              "       'nameUrlFriendly', 'isCounty'],\n",
              "      dtype='object')"
            ]
          },
          "execution_count": 37,
          "metadata": {},
          "output_type": "execute_result"
        }
      ],
      "source": [
        "police_station_data.columns"
      ]
    },
    {
      "cell_type": "code",
      "execution_count": 38,
      "metadata": {},
      "outputs": [
        {
          "name": "stdout",
          "output_type": "stream",
          "text": [
            "<class 'pandas.core.frame.DataFrame'>\n",
            "RangeIndex: 117 entries, 0 to 116\n",
            "Data columns (total 35 columns):\n",
            " #   Column           Non-Null Count  Dtype  \n",
            "---  ------           --------------  -----  \n",
            " 0   X                117 non-null    float64\n",
            " 1   Y                117 non-null    float64\n",
            " 2   OBJECTID         117 non-null    int64  \n",
            " 3   source           117 non-null    object \n",
            " 4   ext_id           117 non-null    int64  \n",
            " 5   cat1             117 non-null    object \n",
            " 6   cat2             117 non-null    object \n",
            " 7   cat3             12 non-null     object \n",
            " 8   org_name         100 non-null    object \n",
            " 9   name             117 non-null    object \n",
            " 10  addrln1          117 non-null    object \n",
            " 11  addrln2          2 non-null      object \n",
            " 12  city             117 non-null    object \n",
            " 13  state            117 non-null    object \n",
            " 14  hours            103 non-null    object \n",
            " 15  phones           117 non-null    object \n",
            " 16  email            1 non-null      object \n",
            " 17  url              115 non-null    object \n",
            " 18  info1            0 non-null      float64\n",
            " 19  info2            0 non-null      float64\n",
            " 20  post_id          117 non-null    int64  \n",
            " 21  description      115 non-null    object \n",
            " 22  zip              117 non-null    object \n",
            " 23  link             115 non-null    object \n",
            " 24  use_type         117 non-null    object \n",
            " 25  latitude         117 non-null    float64\n",
            " 26  longitude        117 non-null    float64\n",
            " 27  date_updated     117 non-null    object \n",
            " 28  dis_status       0 non-null      float64\n",
            " 29  POINT_X          117 non-null    float64\n",
            " 30  POINT_Y          117 non-null    float64\n",
            " 31  OBJECTID_1       117 non-null    int64  \n",
            " 32  allcats          117 non-null    object \n",
            " 33  nameUrlFriendly  117 non-null    object \n",
            " 34  isCounty         117 non-null    int64  \n",
            "dtypes: float64(9), int64(5), object(21)\n",
            "memory usage: 32.1+ KB\n"
          ]
        }
      ],
      "source": [
        "police_station_data.info()"
      ]
    },
    {
      "cell_type": "code",
      "execution_count": 39,
      "metadata": {},
      "outputs": [
        {
          "name": "stdout",
          "output_type": "stream",
          "text": [
            "<class 'pandas.core.frame.DataFrame'>\n",
            "RangeIndex: 117 entries, 0 to 116\n",
            "Data columns (total 11 columns):\n",
            " #   Column       Non-Null Count  Dtype  \n",
            "---  ------       --------------  -----  \n",
            " 0   cat3         12 non-null     object \n",
            " 1   org_name     100 non-null    object \n",
            " 2   addrln2      2 non-null      object \n",
            " 3   hours        103 non-null    object \n",
            " 4   email        1 non-null      object \n",
            " 5   url          115 non-null    object \n",
            " 6   info1        0 non-null      float64\n",
            " 7   info2        0 non-null      float64\n",
            " 8   description  115 non-null    object \n",
            " 9   link         115 non-null    object \n",
            " 10  dis_status   0 non-null      float64\n",
            "dtypes: float64(3), object(8)\n",
            "memory usage: 10.2+ KB\n"
          ]
        }
      ],
      "source": [
        "# Step 1: Get the total number of rows\n",
        "total_rows = len(police_station_data)\n",
        "\n",
        "# Step 2: Create a mask for columns where non-null count is less than total rows\n",
        "mask = police_station_data.count() < total_rows\n",
        "\n",
        "# Step 3: Select columns based on the mask\n",
        "filtered_columns = police_station_data.loc[:, mask]\n",
        "\n",
        "# Step 4: Display info for these columns\n",
        "filtered_columns.info()"
      ]
    }
  ],
  "metadata": {
    "colab": {
      "provenance": []
    },
    "kernelspec": {
      "display_name": "Python 3",
      "name": "python3"
    },
    "language_info": {
      "codemirror_mode": {
        "name": "ipython",
        "version": 3
      },
      "file_extension": ".py",
      "mimetype": "text/x-python",
      "name": "python",
      "nbconvert_exporter": "python",
      "pygments_lexer": "ipython3",
      "version": "3.10.12"
    }
  },
  "nbformat": 4,
  "nbformat_minor": 0
}
